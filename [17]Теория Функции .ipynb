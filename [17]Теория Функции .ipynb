{
 "cells": [
  {
   "cell_type": "code",
   "execution_count": 2,
   "metadata": {},
   "outputs": [],
   "source": [
    "# Пишем функцию, находящую сумму квадратов двух натуральных чисел, \n",
    "# и определяющую количество знаков в получившемся результате.\n",
    "\n",
    "def sum_squares(a, b):\n",
    "    s_squares = a**2 + b**2\n",
    "    n_digits = len(str(s_squares))\n",
    "    print('локальная а =', a)\n",
    "    print(test)\n",
    "    return s_squares, n_digits"
   ]
  },
  {
   "cell_type": "code",
   "execution_count": 9,
   "metadata": {},
   "outputs": [
    {
     "name": "stdout",
     "output_type": "stream",
     "text": [
      "локальная а = 25\n",
      "Hello!\n",
      "Сумма квадратов чисел 25 и 10 равна 725, количество цифр в числе - 3\n"
     ]
    }
   ],
   "source": [
    "# Синтаксис вызова функции\n",
    "# Вызываем функцию для двух конкретных чисел:\n",
    "res1, res2 = sum_squares(25, 10)\n",
    "print('Сумма квадратов чисел 25 и 10 равна {}, количество цифр в числе - {}'.format(res1, res2))"
   ]
  },
  {
   "cell_type": "code",
   "execution_count": 8,
   "metadata": {},
   "outputs": [
    {
     "name": "stdout",
     "output_type": "stream",
     "text": [
      "x = 34\n",
      "y = 52\n",
      "локальная а = 34\n",
      "Hello!\n",
      "Сумма квадратов чисел 34 и 52 равна 3860, количество цифр в числе - 4\n"
     ]
    }
   ],
   "source": [
    "# Вызываем функцию для двух чисел, значение которых задаётся с клавиатуры:\n",
    "x = int(input('x = '))\n",
    "y = int(input('y = '))\n",
    "res1, res2 = sum_squares(x, y)\n",
    "print('Сумма квадратов чисел {} и {} равна {}, количество цифр в числе - {}'.format(x, y, res1, res2))"
   ]
  },
  {
   "cell_type": "code",
   "execution_count": 7,
   "metadata": {},
   "outputs": [
    {
     "name": "stdout",
     "output_type": "stream",
     "text": [
      "локальная а = 5\n",
      "Hello!\n",
      "глобальная а = 12345\n",
      "Сумма квадратов чисел 5 и 25 равна 650, количество цифр в числе - 3\n"
     ]
    }
   ],
   "source": [
    "x = 5\n",
    "y = 25\n",
    "a = 12345\n",
    "test = 'Hello!'\n",
    "res1, res2 = sum_squares(x, y)\n",
    "print('глобальная а =', a)\n",
    "print('Сумма квадратов чисел {} и {} равна {}, количество цифр в числе - {}'.format(x, y, res1, res2))"
   ]
  },
  {
   "cell_type": "code",
   "execution_count": 12,
   "metadata": {},
   "outputs": [
    {
     "name": "stdout",
     "output_type": "stream",
     "text": [
      "key,pickup_datetime,pickup_longitude,pickup_latitude,dropoff_longitude,dropoff_latitude,passenger_count\n",
      "\n",
      "2015-01-27 13:08:24.0000002,2015-01-27 13:08:24 UTC,-73.973320007324219,40.7638053894043,-73.981430053710938,40.74383544921875,1\n",
      "\n",
      "2015-01-27 13:08:24.0000003,2015-01-27 13:08:24 UTC,-73.986862182617188,40.719383239746094,-73.998886108398438,40.739200592041016,1\n",
      "\n",
      "2011-10-08 11:53:44.0000002,2011-10-08 11:53:44 UTC,-73.982524,40.75126,-73.979654,40.746139,1\n",
      "\n",
      "2012-12-01 21:12:12.0000002,2012-12-01 21:12:12 UTC,-73.98116,40.767807,-73.990448,40.751635,1\n",
      "\n"
     ]
    }
   ],
   "source": [
    "# Смотрим на данные\n",
    "with open ('test_taxi.csv') as f:\n",
    "    counter = 0\n",
    "    for line in f:\n",
    "        counter += 1\n",
    "        print(line)\n",
    "        if counter == 5: break"
   ]
  },
  {
   "cell_type": "code",
   "execution_count": 18,
   "metadata": {},
   "outputs": [],
   "source": [
    "from datetime import datetime"
   ]
  },
  {
   "cell_type": "code",
   "execution_count": 19,
   "metadata": {},
   "outputs": [],
   "source": [
    "# Пишем функцию, определяющую по дате, является ли день выходным или будним\n",
    "def detect_weekend(date_str):\n",
    "    date = datetime.strptime(date_str, \"%Y-%m-%d %H:%M:%S %Z\")\n",
    "    if date.weekday() >= 5:\n",
    "        return 'weekend'\n",
    "    return 'weekday'"
   ]
  },
  {
   "cell_type": "code",
   "execution_count": 20,
   "metadata": {},
   "outputs": [
    {
     "name": "stdout",
     "output_type": "stream",
     "text": [
      "2015-01-27 13:08:24 UTC weekday\n",
      "2015-01-27 13:08:24 UTC weekday\n",
      "2011-10-08 11:53:44 UTC weekend\n",
      "2012-12-01 21:12:12 UTC weekend\n",
      "2012-12-01 21:12:12 UTC weekend\n",
      "2012-12-01 21:12:12 UTC weekend\n"
     ]
    }
   ],
   "source": [
    "# Проверим, как работает функция \n",
    "with open ('test_taxi.csv') as f:\n",
    "    counter = 0\n",
    "    started = True\n",
    "    for line in f:\n",
    "        if started == True:\n",
    "            started = False\n",
    "            continue\n",
    "        counter += 1 \n",
    "        date = line.split(',')[1]\n",
    "        print(date, detect_weekend(date))\n",
    "        if counter > 5:\n",
    "            break"
   ]
  },
  {
   "cell_type": "code",
   "execution_count": 23,
   "metadata": {},
   "outputs": [
    {
     "name": "stdout",
     "output_type": "stream",
     "text": [
      "Выходные: 1.7044864664441972\n",
      "Будни: 1.6588610225855618\n"
     ]
    }
   ],
   "source": [
    "# Соберём из файла информацию отдельно о поездках в будние дни и выходные\n",
    "# ВАЖНО! В коде необходимо выполнить дополнительную обработку данных о количестве пассажиров!\n",
    "rides = {'weekday': [], 'weekend': []}\n",
    "with open ('test_taxi.csv') as f:\n",
    "    next(f)\n",
    "    for line in f:\n",
    "        date = line.split(',')[1]\n",
    "        day_of_week = detect_weekend(date)\n",
    "        pass_count = int(line.split(',')[6].strip())\n",
    "        rides[day_of_week].append(pass_count)\n",
    "\n",
    "print('Выходные:', sum(rides['weekend'])/len(rides['weekend']))\n",
    "print('Будни:', sum(rides['weekday'])/len(rides['weekday']))"
   ]
  },
  {
   "cell_type": "code",
   "execution_count": 22,
   "metadata": {},
   "outputs": [
    {
     "name": "stdout",
     "output_type": "stream",
     "text": [
      "Выходные: 1.7044864664441972\n",
      "Будни: 1.6588610225855618\n"
     ]
    }
   ],
   "source": [
    "print('Выходные:', sum(rides['weekend'])/len(rides['weekend']))\n",
    "print('Будни:', sum(rides['weekday'])/len(rides['weekday']))"
   ]
  },
  {
   "cell_type": "code",
   "execution_count": 25,
   "metadata": {},
   "outputs": [],
   "source": [
    "#*Вариант 2:\n",
    "#Дополните код функции необязательным параметром specific, \n",
    "#с помощью которого можно вести учет количества пассажиров по дням недели. Пусть по умолчанию specific = False.\n",
    "def detect_weekend(date_str, specific = False):\n",
    "    date = datetime.strptime(date_str, \"%Y-%m-%d %H:%M:%S %Z\")\n",
    "    if specific == False:\n",
    "        if date.weekday() >= 5:\n",
    "            return 'Выходной'\n",
    "        return 'Будний'\n",
    "    week = 'Понедельник Вторник Среда Четверг Пятница Суббота Воскресенье'.split()\n",
    "    return week[date.weekday()]"
   ]
  },
  {
   "cell_type": "code",
   "execution_count": 26,
   "metadata": {},
   "outputs": [],
   "source": [
    "rides = {}\n",
    "with open('test_taxi.csv') as f:\n",
    "    next(f)\n",
    "    for line in f:\n",
    "        date = line.split(',')[1]\n",
    "        day_of_week = detect_weekend(date, specific = True)\n",
    "        rides.setdefault(day_of_week, [])\n",
    "        pass_count = int(line.split(',')[6].strip())\n",
    "        rides[day_of_week].append(pass_count)"
   ]
  },
  {
   "cell_type": "code",
   "execution_count": 1,
   "metadata": {},
   "outputs": [
    {
     "ename": "NameError",
     "evalue": "name 'rides' is not defined",
     "output_type": "error",
     "traceback": [
      "\u001b[1;31m---------------------------------------------------------------------------\u001b[0m",
      "\u001b[1;31mNameError\u001b[0m                                 Traceback (most recent call last)",
      "\u001b[1;32m<ipython-input-1-558ba56880ec>\u001b[0m in \u001b[0;36m<module>\u001b[1;34m\u001b[0m\n\u001b[0;32m      1\u001b[0m \u001b[1;31m# Считаем результаты и выводим их на экран\u001b[0m\u001b[1;33m\u001b[0m\u001b[1;33m\u001b[0m\u001b[1;33m\u001b[0m\u001b[0m\n\u001b[1;32m----> 2\u001b[1;33m \u001b[1;32mfor\u001b[0m \u001b[0mday\u001b[0m\u001b[1;33m,\u001b[0m \u001b[0mpassengers\u001b[0m \u001b[1;32min\u001b[0m \u001b[0mrides\u001b[0m\u001b[1;33m.\u001b[0m\u001b[0mitems\u001b[0m\u001b[1;33m(\u001b[0m\u001b[1;33m)\u001b[0m\u001b[1;33m:\u001b[0m\u001b[1;33m\u001b[0m\u001b[1;33m\u001b[0m\u001b[0m\n\u001b[0m\u001b[0;32m      3\u001b[0m     \u001b[0mprint\u001b[0m\u001b[1;33m(\u001b[0m\u001b[1;34m'День недели: {}, пассажир: {}'\u001b[0m\u001b[1;33m.\u001b[0m\u001b[0mformat\u001b[0m\u001b[1;33m(\u001b[0m\u001b[0mday\u001b[0m\u001b[1;33m,\u001b[0m \u001b[0msum\u001b[0m\u001b[1;33m(\u001b[0m\u001b[0mpassengers\u001b[0m\u001b[1;33m)\u001b[0m\u001b[1;33m/\u001b[0m\u001b[0mlen\u001b[0m\u001b[1;33m(\u001b[0m\u001b[0mpassengers\u001b[0m\u001b[1;33m)\u001b[0m\u001b[1;33m)\u001b[0m\u001b[1;33m)\u001b[0m\u001b[1;33m\u001b[0m\u001b[1;33m\u001b[0m\u001b[0m\n",
      "\u001b[1;31mNameError\u001b[0m: name 'rides' is not defined"
     ]
    }
   ],
   "source": [
    "# Считаем результаты и выводим их на экран\n",
    "for day, passengers in rides.items():\n",
    "    print('День недели: {}, пассажир: {}'.format(day, sum(passengers)/len(passengers)))"
   ]
  },
  {
   "cell_type": "code",
   "execution_count": 3,
   "metadata": {},
   "outputs": [],
   "source": [
    "#Lambda-функция \n",
    "# Пишем функцию sqrt, которая возвращает квадратный корень числа\n",
    "sqrt = lambda x: (x**0.5, x**2)"
   ]
  },
  {
   "cell_type": "code",
   "execution_count": 4,
   "metadata": {},
   "outputs": [
    {
     "data": {
      "text/plain": [
       "(2.0, 16)"
      ]
     },
     "execution_count": 4,
     "metadata": {},
     "output_type": "execute_result"
    }
   ],
   "source": [
    "sqrt(4)"
   ]
  },
  {
   "cell_type": "code",
   "execution_count": 5,
   "metadata": {},
   "outputs": [],
   "source": [
    "hi = lambda: 'hi'"
   ]
  },
  {
   "cell_type": "code",
   "execution_count": 6,
   "metadata": {},
   "outputs": [
    {
     "data": {
      "text/plain": [
       "'hi'"
      ]
     },
     "execution_count": 6,
     "metadata": {},
     "output_type": "execute_result"
    }
   ],
   "source": [
    "hi()"
   ]
  },
  {
   "cell_type": "code",
   "execution_count": 7,
   "metadata": {},
   "outputs": [
    {
     "data": {
      "text/plain": [
       "[1, 4, 9, 16, 25, 36, 49, 64, 81]"
      ]
     },
     "execution_count": 7,
     "metadata": {},
     "output_type": "execute_result"
    }
   ],
   "source": [
    "#map + lambda\n",
    "#Пишем программу, которая создает список, содержащий квадраты натуральных чисел от 1 до 9\n",
    "# Традиционным способом\n",
    "my_list = []\n",
    "for i in range(1,10):\n",
    "    my_list.append(i**2)\n",
    "my_list"
   ]
  },
  {
   "cell_type": "code",
   "execution_count": 8,
   "metadata": {},
   "outputs": [
    {
     "data": {
      "text/plain": [
       "[1, 4, 9, 16, 25, 36, 49, 64, 81]"
      ]
     },
     "execution_count": 8,
     "metadata": {},
     "output_type": "execute_result"
    }
   ],
   "source": [
    "# С помощью map+lambda\n",
    "list(map(lambda x: x**2, range(1,10)))"
   ]
  },
  {
   "cell_type": "code",
   "execution_count": 9,
   "metadata": {},
   "outputs": [
    {
     "data": {
      "text/plain": [
       "[22, 2, 1]"
      ]
     },
     "execution_count": 9,
     "metadata": {},
     "output_type": "execute_result"
    }
   ],
   "source": [
    "list(map(int, ['22', 2.5, 1.555]))"
   ]
  }
 ],
 "metadata": {
  "kernelspec": {
   "display_name": "Python 3",
   "language": "python",
   "name": "python3"
  },
  "language_info": {
   "codemirror_mode": {
    "name": "ipython",
    "version": 3
   },
   "file_extension": ".py",
   "mimetype": "text/x-python",
   "name": "python",
   "nbconvert_exporter": "python",
   "pygments_lexer": "ipython3",
   "version": "3.8.3"
  }
 },
 "nbformat": 4,
 "nbformat_minor": 4
}
