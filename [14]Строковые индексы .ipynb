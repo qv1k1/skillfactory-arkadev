{
 "cells": [
  {
   "cell_type": "code",
   "execution_count": 1,
   "metadata": {},
   "outputs": [],
   "source": [
    "string = 'Семь бед — один reset'"
   ]
  },
  {
   "cell_type": "code",
   "execution_count": 4,
   "metadata": {},
   "outputs": [
    {
     "data": {
      "text/plain": [
       "'семь'"
      ]
     },
     "execution_count": 4,
     "metadata": {},
     "output_type": "execute_result"
    }
   ],
   "source": [
    "#Вывестти слово семь\n",
    "string[:4].lower()"
   ]
  },
  {
   "cell_type": "code",
   "execution_count": 5,
   "metadata": {},
   "outputs": [
    {
     "data": {
      "text/plain": [
       "'один'"
      ]
     },
     "execution_count": 5,
     "metadata": {},
     "output_type": "execute_result"
    }
   ],
   "source": [
    "#вывести на экран слово один \n",
    "string.split()[3]"
   ]
  },
  {
   "cell_type": "code",
   "execution_count": 7,
   "metadata": {},
   "outputs": [
    {
     "data": {
      "text/plain": [
       "'один'"
      ]
     },
     "execution_count": 7,
     "metadata": {},
     "output_type": "execute_result"
    }
   ],
   "source": [
    "string[-10:-6]"
   ]
  },
  {
   "cell_type": "code",
   "execution_count": 8,
   "metadata": {},
   "outputs": [
    {
     "data": {
      "text/plain": [
       "'один'"
      ]
     },
     "execution_count": 8,
     "metadata": {},
     "output_type": "execute_result"
    }
   ],
   "source": [
    "string[11:15]"
   ]
  },
  {
   "cell_type": "code",
   "execution_count": 9,
   "metadata": {},
   "outputs": [
    {
     "data": {
      "text/plain": [
       "'reset'"
      ]
     },
     "execution_count": 9,
     "metadata": {},
     "output_type": "execute_result"
    }
   ],
   "source": [
    "#Вывести resrt\n",
    "string[-5:]"
   ]
  },
  {
   "cell_type": "code",
   "execution_count": 10,
   "metadata": {},
   "outputs": [
    {
     "data": {
      "text/plain": [
       "'reset'"
      ]
     },
     "execution_count": 10,
     "metadata": {},
     "output_type": "execute_result"
    }
   ],
   "source": [
    "string.split()[4]"
   ]
  },
  {
   "cell_type": "code",
   "execution_count": 12,
   "metadata": {},
   "outputs": [
    {
     "data": {
      "text/plain": [
       "'teser'"
      ]
     },
     "execution_count": 12,
     "metadata": {},
     "output_type": "execute_result"
    }
   ],
   "source": [
    "#вывеести наоборот reset\n",
    "string[-1:-6:-1]"
   ]
  },
  {
   "cell_type": "code",
   "execution_count": 13,
   "metadata": {},
   "outputs": [
    {
     "data": {
      "text/plain": [
       "'teser'"
      ]
     },
     "execution_count": 13,
     "metadata": {},
     "output_type": "execute_result"
    }
   ],
   "source": [
    "''.join(reversed(string[-5:]))"
   ]
  },
  {
   "cell_type": "code",
   "execution_count": 14,
   "metadata": {},
   "outputs": [
    {
     "name": "stdout",
     "output_type": "stream",
     "text": [
      "С\n",
      "е\n",
      "м\n",
      "ь\n",
      " \n",
      "б\n",
      "е\n",
      "д\n",
      " \n",
      "—\n",
      " \n",
      "о\n",
      "д\n",
      "и\n",
      "н\n",
      " \n",
      "r\n",
      "e\n",
      "s\n",
      "e\n",
      "t\n"
     ]
    }
   ],
   "source": [
    "#Вывести всю строку в столбик \n",
    "for ch in string:\n",
    "    print(ch)"
   ]
  },
  {
   "cell_type": "code",
   "execution_count": 17,
   "metadata": {},
   "outputs": [
    {
     "name": "stdout",
     "output_type": "stream",
     "text": [
      "С*е*м*ь* *б*е*д* *—* *о*д*и*н* *r*e*s*e*t*"
     ]
    }
   ],
   "source": [
    "#Вывести всю строку и добавитьт звезщдочку \n",
    "for i in string:\n",
    "    print(i, end='*')\n",
    "    "
   ]
  },
  {
   "cell_type": "code",
   "execution_count": 18,
   "metadata": {},
   "outputs": [
    {
     "data": {
      "text/plain": [
       "'teser нидо — деб ьмеС'"
      ]
     },
     "execution_count": 18,
     "metadata": {},
     "output_type": "execute_result"
    }
   ],
   "source": [
    "#вывести словосочетание наоборот c помощью среза \n",
    "string[::-1]"
   ]
  },
  {
   "cell_type": "code",
   "execution_count": 19,
   "metadata": {},
   "outputs": [
    {
     "name": "stdout",
     "output_type": "stream",
     "text": [
      "teser нидо — деб ьмеС"
     ]
    }
   ],
   "source": [
    "#вывести словосочетание с помощью цикла \n",
    "for i in string[::-1]:\n",
    "    print(i, end='')"
   ]
  },
  {
   "cell_type": "code",
   "execution_count": 20,
   "metadata": {},
   "outputs": [
    {
     "name": "stdout",
     "output_type": "stream",
     "text": [
      "teser нидо — деб ьмеС"
     ]
    }
   ],
   "source": [
    "i=len(string)\n",
    "while i>0:\n",
    "    i-=1\n",
    "    print(string[i], end='')"
   ]
  },
  {
   "cell_type": "code",
   "execution_count": 22,
   "metadata": {},
   "outputs": [
    {
     "name": "stdout",
     "output_type": "stream",
     "text": [
      "teser нидо — деб ьмеС"
     ]
    }
   ],
   "source": [
    "for i in range(len(string)-1, -1, -1):\n",
    "    print(string[i], end='')"
   ]
  },
  {
   "cell_type": "code",
   "execution_count": 23,
   "metadata": {},
   "outputs": [],
   "source": [
    "info = 'Фамилия: Иванов, имя: Иван, e-mail: vanya@ivanov.me'"
   ]
  },
  {
   "cell_type": "code",
   "execution_count": 24,
   "metadata": {},
   "outputs": [
    {
     "data": {
      "text/plain": [
       "'vanya@ivanov.me'"
      ]
     },
     "execution_count": 24,
     "metadata": {},
     "output_type": "execute_result"
    }
   ],
   "source": [
    "#Вывести через split\n",
    "info.split()[5]"
   ]
  },
  {
   "cell_type": "code",
   "execution_count": 25,
   "metadata": {},
   "outputs": [
    {
     "data": {
      "text/plain": [
       "'vanya@ivanov.me'"
      ]
     },
     "execution_count": 25,
     "metadata": {},
     "output_type": "execute_result"
    }
   ],
   "source": [
    "#Вывести через split\n",
    "info.split()[-1]"
   ]
  },
  {
   "cell_type": "code",
   "execution_count": 26,
   "metadata": {},
   "outputs": [
    {
     "data": {
      "text/plain": [
       "28"
      ]
     },
     "execution_count": 26,
     "metadata": {},
     "output_type": "execute_result"
    }
   ],
   "source": [
    "#вывести через find\n",
    "info.find('e-mail:')"
   ]
  },
  {
   "cell_type": "code",
   "execution_count": 28,
   "metadata": {},
   "outputs": [
    {
     "data": {
      "text/plain": [
       "'vanya@ivanov.me'"
      ]
     },
     "execution_count": 28,
     "metadata": {},
     "output_type": "execute_result"
    }
   ],
   "source": [
    "info[info.find('e-mail: ')+8:]"
   ]
  },
  {
   "cell_type": "code",
   "execution_count": 9,
   "metadata": {},
   "outputs": [],
   "source": [
    "info = 'Фамилия: Иванов, имя: Иван, e-mail: vanya@ivanov.me'"
   ]
  },
  {
   "cell_type": "code",
   "execution_count": 8,
   "metadata": {},
   "outputs": [
    {
     "data": {
      "text/plain": [
       "'Иван'"
      ]
     },
     "execution_count": 8,
     "metadata": {},
     "output_type": "execute_result"
    }
   ],
   "source": [
    "#Вывести из строки имя через сплит \n",
    "info.split()[3][:-1]"
   ]
  },
  {
   "cell_type": "code",
   "execution_count": 10,
   "metadata": {},
   "outputs": [
    {
     "data": {
      "text/plain": [
       "'Иван'"
      ]
     },
     "execution_count": 10,
     "metadata": {},
     "output_type": "execute_result"
    }
   ],
   "source": [
    "#через файнд \n",
    "info[info.find('имя')+5:info.find('e-mail:')-2]"
   ]
  },
  {
   "cell_type": "code",
   "execution_count": 13,
   "metadata": {},
   "outputs": [
    {
     "data": {
      "text/plain": [
       "'Иван Иванов (vanya@ivanov)'"
      ]
     },
     "execution_count": 13,
     "metadata": {},
     "output_type": "execute_result"
    }
   ],
   "source": [
    "#Вывести имя фам и почту в кавычах\n",
    "info = 'Фамилия: Иванов, имя: Иван, e-mail: vanya@ivanov.me'\n",
    "f=info.split()\n",
    "f[3][:-1]+' '+f[1][:-1]+' ('+f[5][:-3]+')'"
   ]
  },
  {
   "cell_type": "code",
   "execution_count": 14,
   "metadata": {},
   "outputs": [
    {
     "data": {
      "text/plain": [
       "'Иван Иванов (vanya@ivanov.me)'"
      ]
     },
     "execution_count": 14,
     "metadata": {},
     "output_type": "execute_result"
    }
   ],
   "source": [
    "(info.split()[3]+info.split()[1]+'('+info.split()[5]+')').replace(',',' ')"
   ]
  },
  {
   "cell_type": "code",
   "execution_count": 15,
   "metadata": {},
   "outputs": [
    {
     "name": "stdout",
     "output_type": "stream",
     "text": [
      "Иван Иванов (vanya@ivanov.me)\n"
     ]
    }
   ],
   "source": [
    "name = info.split()[3][:-1]\n",
    "surname = info.split()[1][:-1]\n",
    "email = info.split()[5]\n",
    "print('{} {} ({})'.format(name, surname, email))"
   ]
  },
  {
   "cell_type": "code",
   "execution_count": 1,
   "metadata": {},
   "outputs": [
    {
     "data": {
      "text/plain": [
       "<function io.open(file, mode='r', buffering=-1, encoding=None, errors=None, newline=None, closefd=True, opener=None)>"
      ]
     },
     "execution_count": 1,
     "metadata": {},
     "output_type": "execute_result"
    }
   ],
   "source": [
    "open"
   ]
  },
  {
   "cell_type": "code",
   "execution_count": 3,
   "metadata": {},
   "outputs": [
    {
     "name": "stdout",
     "output_type": "stream",
     "text": [
      "РРІР°РЅРѕРІ\tРРІР°РЅ\t1.01.1996\tvanya@mail.ru\t+7 (903) 221-23-35\n",
      "РЎРјРёС‚\tРђРЅРЅР°\t3.09.1985\tbeauty@gmail.com\t+1 (501) 342-52-31\n",
      "РџРµС‚СЂРѕРІ\tРџРµС‚СЂ\t5.05.1965\tbig_boss@mail.ru\t+7 (999) 345-67-89\n",
      "РЎРёРґРѕСЂРѕРІР°\tРђРЅРіРµР»РёРЅР°\t21.06.1977\ta.sidorova@yandex.ru\t+7 (777) 234-56-83\n",
      "Р”СЏС‚Р»РѕРІ\tРђРЅР°С‚РѕР»РёР№\t13.02.1997\tterminator@mail.ru\t+7 (920) 253-43-21\n",
      "РљСЂР°СЃР°РІС†РµРІР°\tР®Р»РёСЏ\t15.04.1998\tyulechka@gmail.com\t+45 (3452) 234-32-34"
     ]
    }
   ],
   "source": [
    "with open('info.txt.txt', encoding='ansi') as f:\n",
    "    for line in f:\n",
    "        print(line, end = '')"
   ]
  },
  {
   "cell_type": "code",
   "execution_count": null,
   "metadata": {},
   "outputs": [],
   "source": []
  }
 ],
 "metadata": {
  "kernelspec": {
   "display_name": "Python 3",
   "language": "python",
   "name": "python3"
  },
  "language_info": {
   "codemirror_mode": {
    "name": "ipython",
    "version": 3
   },
   "file_extension": ".py",
   "mimetype": "text/x-python",
   "name": "python",
   "nbconvert_exporter": "python",
   "pygments_lexer": "ipython3",
   "version": "3.8.3"
  }
 },
 "nbformat": 4,
 "nbformat_minor": 4
}
