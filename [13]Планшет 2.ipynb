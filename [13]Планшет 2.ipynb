{
 "cells": [
  {
   "cell_type": "code",
   "execution_count": 2,
   "metadata": {},
   "outputs": [
    {
     "data": {
      "text/plain": [
       "'заяц'"
      ]
     },
     "execution_count": 2,
     "metadata": {},
     "output_type": "execute_result"
    }
   ],
   "source": [
    "animals = ['кошка', 'собака', 'хомяк', 'корова', 'лошадь', 'лиса', 'волк', 'заяц']\n",
    "animals[7]"
   ]
  },
  {
   "cell_type": "code",
   "execution_count": 3,
   "metadata": {},
   "outputs": [
    {
     "data": {
      "text/plain": [
       "['кошка', 'собака', 'хомяк']"
      ]
     },
     "execution_count": 3,
     "metadata": {},
     "output_type": "execute_result"
    }
   ],
   "source": [
    "animals[:3]"
   ]
  },
  {
   "cell_type": "code",
   "execution_count": 5,
   "metadata": {},
   "outputs": [
    {
     "data": {
      "text/plain": [
       "['корова', 'лошадь']"
      ]
     },
     "execution_count": 5,
     "metadata": {},
     "output_type": "execute_result"
    }
   ],
   "source": [
    "animals[3:5]"
   ]
  },
  {
   "cell_type": "code",
   "execution_count": 11,
   "metadata": {},
   "outputs": [
    {
     "data": {
      "text/plain": [
       "['лиса', 'волк', 'заяц']"
      ]
     },
     "execution_count": 11,
     "metadata": {},
     "output_type": "execute_result"
    }
   ],
   "source": [
    "animals[-3:8]"
   ]
  },
  {
   "cell_type": "code",
   "execution_count": 12,
   "metadata": {},
   "outputs": [
    {
     "data": {
      "text/plain": [
       "['кошка', 'хомяк', 'лошадь', 'волк']"
      ]
     },
     "execution_count": 12,
     "metadata": {},
     "output_type": "execute_result"
    }
   ],
   "source": [
    "animals[::2]"
   ]
  },
  {
   "cell_type": "code",
   "execution_count": 13,
   "metadata": {},
   "outputs": [
    {
     "data": {
      "text/plain": [
       "['заяц', 'волк', 'лиса', 'лошадь', 'корова', 'хомяк', 'собака', 'кошка']"
      ]
     },
     "execution_count": 13,
     "metadata": {},
     "output_type": "execute_result"
    }
   ],
   "source": [
    "animals[::-1]"
   ]
  },
  {
   "cell_type": "code",
   "execution_count": 17,
   "metadata": {},
   "outputs": [
    {
     "name": "stdout",
     "output_type": "stream",
     "text": [
      "1-й элемент списка - \"кошка\"\n",
      "2-й элемент списка - \"собака\"\n",
      "3-й элемент списка - \"хомяк\"\n",
      "4-й элемент списка - \"корова\"\n",
      "5-й элемент списка - \"лошадь\"\n",
      "6-й элемент списка - \"лиса\"\n",
      "7-й элемент списка - \"волк\"\n",
      "8-й элемент списка - \"заяц\"\n"
     ]
    }
   ],
   "source": [
    "# Используйте в качестве параметра цикла элемента списка\n",
    "number=0\n",
    "for animal in animals:\n",
    "    number+=1\n",
    "    print('{}-й элемент списка - \"{}\"'.format(number, animal))"
   ]
  },
  {
   "cell_type": "code",
   "execution_count": 21,
   "metadata": {},
   "outputs": [
    {
     "name": "stdout",
     "output_type": "stream",
     "text": [
      "1-й элемент списка - \"кошка\"\n",
      "2-й элемент списка - \"собака\"\n",
      "3-й элемент списка - \"хомяк\"\n",
      "4-й элемент списка - \"корова\"\n",
      "5-й элемент списка - \"лошадь\"\n",
      "6-й элемент списка - \"лиса\"\n",
      "7-й элемент списка - \"волк\"\n",
      "8-й элемент списка - \"заяц\"\n"
     ]
    }
   ],
   "source": [
    "for i in range(len(animals)):\n",
    "    print('{}-й элемент списка - \"{}\"'.format(i+1,animals[i]))"
   ]
  },
  {
   "cell_type": "code",
   "execution_count": 22,
   "metadata": {},
   "outputs": [
    {
     "name": "stdout",
     "output_type": "stream",
     "text": [
      "1-й элемент списка -\"заяц\"\n",
      "2-й элемент списка -\"заяц\"\n",
      "3-й элемент списка -\"заяц\"\n",
      "4-й элемент списка -\"заяц\"\n",
      "5-й элемент списка -\"заяц\"\n",
      "6-й элемент списка -\"заяц\"\n",
      "7-й элемент списка -\"заяц\"\n",
      "8-й элемент списка -\"заяц\"\n"
     ]
    }
   ],
   "source": [
    "for counter, animals in enumerate(animals, 1):\n",
    "    print('{}-й элемент списка -\"{}\"'.format(counter, animal))"
   ]
  },
  {
   "cell_type": "code",
   "execution_count": 23,
   "metadata": {},
   "outputs": [
    {
     "data": {
      "text/plain": [
       "[100, 144, 196, 256, 324, 400, 484, 576]"
      ]
     },
     "execution_count": 23,
     "metadata": {},
     "output_type": "execute_result"
    }
   ],
   "source": [
    "my_list=[]\n",
    "for i in range(10,25,2):\n",
    "    number=i**2\n",
    "    my_list.append(number)\n",
    "my_list"
   ]
  },
  {
   "cell_type": "code",
   "execution_count": 24,
   "metadata": {},
   "outputs": [
    {
     "data": {
      "text/plain": [
       "[100, 144, 196, 256, 324, 400, 484, 576]"
      ]
     },
     "execution_count": 24,
     "metadata": {},
     "output_type": "execute_result"
    }
   ],
   "source": [
    "[x*x for x in range(10,26,2)]"
   ]
  },
  {
   "cell_type": "code",
   "execution_count": 2,
   "metadata": {},
   "outputs": [
    {
     "data": {
      "text/plain": [
       "3"
      ]
     },
     "execution_count": 2,
     "metadata": {},
     "output_type": "execute_result"
    }
   ],
   "source": [
    "my_list = [[1,2,3], [4,5,6], [7,8,9]]\n",
    "len(my_list)"
   ]
  },
  {
   "cell_type": "code",
   "execution_count": 4,
   "metadata": {},
   "outputs": [
    {
     "name": "stdout",
     "output_type": "stream",
     "text": [
      "[1, 2, 3]\n",
      "[4, 5, 6]\n",
      "[7, 8, 9]\n"
     ]
    }
   ],
   "source": [
    "my_list = [[1,2,3], [4,5,6], [7,8,9]]\n",
    "for x in my_list:\n",
    "    print(x)"
   ]
  },
  {
   "cell_type": "code",
   "execution_count": 6,
   "metadata": {},
   "outputs": [
    {
     "data": {
      "text/plain": [
       "[1, 4, 7]"
      ]
     },
     "execution_count": 6,
     "metadata": {},
     "output_type": "execute_result"
    }
   ],
   "source": [
    "my_list = [[1,2,3], [4,5,6], [7,8,9]]\n",
    "[i[0]for i in(my_list)]"
   ]
  },
  {
   "cell_type": "code",
   "execution_count": 11,
   "metadata": {},
   "outputs": [
    {
     "name": "stdout",
     "output_type": "stream",
     "text": [
      "1 2 3 \n",
      "4 5 6 \n",
      "7 8 9 \n"
     ]
    }
   ],
   "source": [
    "my_list = [[1,2,3], [4,5,6], [7,8,9]]\n",
    "for small_list in my_list:\n",
    "    for number in small_list:\n",
    "        print(number, end=' ')\n",
    "    print()"
   ]
  },
  {
   "cell_type": "code",
   "execution_count": 13,
   "metadata": {},
   "outputs": [
    {
     "data": {
      "text/plain": [
       "'Эйнштейн А.Э.'"
      ]
     },
     "execution_count": 13,
     "metadata": {},
     "output_type": "execute_result"
    }
   ],
   "source": [
    "my_school = {'математика': 'Иванова М.И.', \n",
    "             'русский язык': 'Пушкина А.С.', \n",
    "             'английский язык': 'Петров Д.Ю.', \n",
    "             'физика': 'Эйнштейн А.Э.', \n",
    "             'химия': 'Менделеева Д.И.', \n",
    "             'биология': 'Мендель Г.И.', \n",
    "             'физкультура': 'Тарасова Т.А.'}\n",
    "my_school['физика']"
   ]
  },
  {
   "cell_type": "code",
   "execution_count": 16,
   "metadata": {},
   "outputs": [
    {
     "name": "stdout",
     "output_type": "stream",
     "text": [
      "Какой предмет Вас интересует? д\n",
      "К сожалению, в нашей школе не преподается предмет \"д\".\n"
     ]
    }
   ],
   "source": [
    "my_school = {'математика': 'Иванова М.И.', \n",
    "             'русский язык': 'Пушкина А.С.', \n",
    "             'английский язык': 'Петров Д.Ю.', \n",
    "             'физика': 'Эйнштейн А.Э.', \n",
    "             'химия': 'Менделеева Д.И.', \n",
    "             'биология': 'Мендель Г.И.', \n",
    "             'физкультура': 'Тарасова Т.А.'}\n",
    "subject = input('Какой предмет Вас интересует? ').lower()\n",
    "if subject in my_school:\n",
    "    print('Предмет \"{}\" преподаёт учитель {}'.format(subject, my_school[subject]))\n",
    "else:\n",
    "    print('К сожалению, в нашей школе не преподается предмет \"{}\".'.format(subject))"
   ]
  },
  {
   "cell_type": "code",
   "execution_count": 20,
   "metadata": {},
   "outputs": [
    {
     "name": "stdout",
     "output_type": "stream",
     "text": [
      "математика\n",
      "русский язык\n",
      "английский язык\n",
      "физика\n",
      "химия\n",
      "биология\n",
      "физкультура\n"
     ]
    }
   ],
   "source": [
    "my_school = {'математика': 'Иванова М.И.', \n",
    "             'русский язык': 'Пушкина А.С.', \n",
    "             'английский язык': 'Петров Д.Ю.', \n",
    "             'физика': 'Эйнштейн А.Э.', \n",
    "             'химия': 'Менделеева Д.И.', \n",
    "             'биология': 'Мендель Г.И.', \n",
    "             'физкультура': 'Тарасова Т.А.'}\n",
    "for something in my_school:\n",
    "    print(something)"
   ]
  },
  {
   "cell_type": "code",
   "execution_count": 22,
   "metadata": {},
   "outputs": [
    {
     "name": "stdout",
     "output_type": "stream",
     "text": [
      "математика\n",
      "русский язык\n",
      "английский язык\n",
      "физика\n",
      "химия\n",
      "биология\n",
      "физкультура\n"
     ]
    }
   ],
   "source": [
    "#Перебор ключей словаря \n",
    "for subject in my_school.keys():\n",
    "    print(subject)"
   ]
  },
  {
   "cell_type": "code",
   "execution_count": 25,
   "metadata": {},
   "outputs": [
    {
     "name": "stdout",
     "output_type": "stream",
     "text": [
      "Иванова М.И.\n",
      "Пушкина А.С.\n",
      "Петров Д.Ю.\n",
      "Эйнштейн А.Э.\n",
      "Менделеева Д.И.\n",
      "Мендель Г.И.\n",
      "Тарасова Т.А.\n"
     ]
    }
   ],
   "source": [
    "#Перебор значения словаря \n",
    "for teacher in my_school.values():\n",
    "    print(teacher)"
   ]
  },
  {
   "cell_type": "code",
   "execution_count": 27,
   "metadata": {},
   "outputs": [
    {
     "name": "stdout",
     "output_type": "stream",
     "text": [
      "Предмет \"математика\" преподает Иванова М.И.\n",
      "Предмет \"русский язык\" преподает Пушкина А.С.\n",
      "Предмет \"английский язык\" преподает Петров Д.Ю.\n",
      "Предмет \"физика\" преподает Эйнштейн А.Э.\n",
      "Предмет \"химия\" преподает Менделеева Д.И.\n",
      "Предмет \"биология\" преподает Мендель Г.И.\n",
      "Предмет \"физкультура\" преподает Тарасова Т.А.\n"
     ]
    }
   ],
   "source": [
    "#Перебор пар ключ-значение в словаре\n",
    "for subject, teacher in my_school.items():\n",
    "    print('Предмет \"{}\" преподает {}'.format(subject, teacher))"
   ]
  },
  {
   "cell_type": "code",
   "execution_count": 1,
   "metadata": {},
   "outputs": [],
   "source": [
    "math = ['Иванова М.И.', 'Колмогоров А.Н.', 'Перельман Г.Я.']\n",
    "russian = ['Пушкина А.С.', 'Лермонтов М.Ю.', 'Толстой Л.Н.']\n",
    "english = ['Петров Д.Ю.', 'Шекспир У.Б.']\n",
    "physics = ['Эйнштейн А.Э.', 'Коллайдер Б.А.']\n",
    "chemistry = ['Менделеева Д.И.', 'Кислота Л.И.']\n",
    "biology = ['Мендель Г.И.', 'Дарвин Ч.Р.']\n",
    "sports = ['Тарасова Т.А.', 'Черчесов С.С.']\n"
   ]
  },
  {
   "cell_type": "code",
   "execution_count": 3,
   "metadata": {},
   "outputs": [
    {
     "name": "stdout",
     "output_type": "stream",
     "text": [
      "математика ['Иванова М.И.', 'Колмогоров А.Н.', 'Перельман Г.Я.']\n",
      "русский язык ['Пушкина А.С.', 'Лермонтов М.Ю.', 'Толстой Л.Н.']\n",
      "английский язык ['Петров Д.Ю.', 'Шекспир У.Б.']\n",
      "физика ['Эйнштейн А.Э.', 'Коллайдер Б.А.']\n",
      "химия ['Менделеева Д.И.', 'Кислота Л.И.']\n",
      "биология ['Мендель Г.И.', 'Дарвин Ч.Р.']\n",
      "физкультура ['Тарасова Т.А.', 'Черчесов С.С.']\n"
     ]
    }
   ],
   "source": [
    "my_big_school = {'математика': math,\n",
    "                 'русский язык': russian,\n",
    "                 'английский язык': english,\n",
    "                 'физика': physics,\n",
    "                 'химия': chemistry, \n",
    "                 'биология': biology,\n",
    "                 'физкультура': sports}\n",
    "for subject, teachers in my_big_school.items():\n",
    "    print(subject, teachers)"
   ]
  },
  {
   "cell_type": "code",
   "execution_count": 6,
   "metadata": {},
   "outputs": [
    {
     "data": {
      "text/plain": [
       "'Лермонтов М.Ю.'"
      ]
     },
     "execution_count": 6,
     "metadata": {},
     "output_type": "execute_result"
    }
   ],
   "source": [
    "my_big_school['русский язык'][1]"
   ]
  },
  {
   "cell_type": "code",
   "execution_count": 8,
   "metadata": {},
   "outputs": [
    {
     "name": "stdout",
     "output_type": "stream",
     "text": [
      "Иванова М.И.\n",
      "Колмогоров А.Н.\n",
      "Перельман Г.Я.\n"
     ]
    }
   ],
   "source": [
    "for teacher in my_big_school['математика']:\n",
    "    print(teacher)"
   ]
  },
  {
   "cell_type": "code",
   "execution_count": 11,
   "metadata": {},
   "outputs": [
    {
     "name": "stdout",
     "output_type": "stream",
     "text": [
      "Предмет \"математика\" преподают учителя:\n",
      "Иванова М.И.\n",
      "Колмогоров А.Н.\n",
      "Перельман Г.Я.\n",
      "\n",
      "Предмет \"русский язык\" преподают учителя:\n",
      "Пушкина А.С.\n",
      "Лермонтов М.Ю.\n",
      "Толстой Л.Н.\n",
      "\n",
      "Предмет \"английский язык\" преподают учителя:\n",
      "Петров Д.Ю.\n",
      "Шекспир У.Б.\n",
      "\n",
      "Предмет \"физика\" преподают учителя:\n",
      "Эйнштейн А.Э.\n",
      "Коллайдер Б.А.\n",
      "\n",
      "Предмет \"химия\" преподают учителя:\n",
      "Менделеева Д.И.\n",
      "Кислота Л.И.\n",
      "\n",
      "Предмет \"биология\" преподают учителя:\n",
      "Мендель Г.И.\n",
      "Дарвин Ч.Р.\n",
      "\n",
      "Предмет \"физкультура\" преподают учителя:\n",
      "Тарасова Т.А.\n",
      "Черчесов С.С.\n",
      "\n"
     ]
    }
   ],
   "source": [
    "for subject in my_big_school.keys():\n",
    "    print('Предмет \"{}\" преподают учителя:'.format(subject))\n",
    "    for teacher in my_big_school[subject]:\n",
    "        print(teacher)\n",
    "    print()"
   ]
  },
  {
   "cell_type": "code",
   "execution_count": 12,
   "metadata": {},
   "outputs": [],
   "source": [
    "math = {'Иванова М.И.': {'кабинет': 1, \n",
    "                         'классы': [5, 6]}, \n",
    "        'Колмогоров А.Н.': {'кабинет': 2, \n",
    "                            'классы': [7, 8, 9]}, \n",
    "        'Перельман Г.Я.': {'кабинет': 3, \n",
    "                           'классы': [10, 11]}}"
   ]
  },
  {
   "cell_type": "code",
   "execution_count": 14,
   "metadata": {},
   "outputs": [
    {
     "data": {
      "text/plain": [
       "2"
      ]
     },
     "execution_count": 14,
     "metadata": {},
     "output_type": "execute_result"
    }
   ],
   "source": [
    "# В каком кабинете работает Колмогоров А.Н.?\n",
    "math['Колмогоров А.Н.']['кабинет']"
   ]
  },
  {
   "cell_type": "code",
   "execution_count": 17,
   "metadata": {},
   "outputs": [
    {
     "data": {
      "text/plain": [
       "[5, 6]"
      ]
     },
     "execution_count": 17,
     "metadata": {},
     "output_type": "execute_result"
    }
   ],
   "source": [
    "# В каких классах преподает Иванова М.И.?\n",
    "math['Иванова М.И.']['классы']"
   ]
  },
  {
   "cell_type": "code",
   "execution_count": 18,
   "metadata": {},
   "outputs": [
    {
     "data": {
      "text/plain": [
       "10"
      ]
     },
     "execution_count": 18,
     "metadata": {},
     "output_type": "execute_result"
    }
   ],
   "source": [
    "# Какой класс из тех, где учителем является Перельман Г.Я., стоит первый в списке?\n",
    "math['Перельман Г.Я.']['классы'][0]"
   ]
  },
  {
   "cell_type": "code",
   "execution_count": 19,
   "metadata": {},
   "outputs": [
    {
     "data": {
      "text/plain": [
       "9"
      ]
     },
     "execution_count": 19,
     "metadata": {},
     "output_type": "execute_result"
    }
   ],
   "source": [
    "# Самый старший класс, в котором преподает Колмогоров А.Н.\n",
    "max(math['Колмогоров А.Н.']['классы'])"
   ]
  },
  {
   "cell_type": "code",
   "execution_count": 4,
   "metadata": {},
   "outputs": [],
   "source": [
    "russian = {'Пушкина А.С.': {'кабинет': 4, 'классы': [5, 6, 7]}, \n",
    "           'Лермонтов М.Ю.': {'кабинет': 5, 'классы': [8, 9]}, \n",
    "           'Толстой Л.Н.': {'кабинет': 6, 'классы': [10, 11]}}\n",
    "english = {'Петров Д.Ю.': {'кабинет': 7, 'классы': [5, 6, 7, 8]}, \n",
    "           'Шекспир У.Б.': {'кабинет': 8, 'классы': [9, 10, 11]}}\n",
    "physics = {'Эйнштейн А.Э.': {'кабинет': 9, 'классы': [7, 8, 9]}, \n",
    "           'Коллайдер Б.А.': {'кабинет': 10, 'классы': [10, 11]}}\n",
    "chemistry = {'Менделеева Д.И.': {'кабинет': 11, 'классы': [8, 9]}, \n",
    "             'Кислота Л.И.': {'кабинет': 12, 'классы': [10, 11]}}\n",
    "biology = {'Мендель Г.И.': {'кабинет': 13, 'классы': [6, 7, 9]}, \n",
    "           'Дарвин Ч.Р.': {'кабинет': 14, 'классы': [8, 10, 11]}}\n",
    "sports = {'Тарасова Т.А.': {'кабинет': 'спортзал', 'классы': [5, 6, 7, 8]}, \n",
    "          'Черчесов С.С.': {'кабинет': 'спортзал', 'классы': [9, 10, 11]}}"
   ]
  },
  {
   "cell_type": "code",
   "execution_count": 10,
   "metadata": {},
   "outputs": [
    {
     "ename": "NameError",
     "evalue": "name 'math' is not defined",
     "output_type": "error",
     "traceback": [
      "\u001b[1;31m---------------------------------------------------------------------------\u001b[0m",
      "\u001b[1;31mNameError\u001b[0m                                 Traceback (most recent call last)",
      "\u001b[1;32m<ipython-input-10-dc629324097f>\u001b[0m in \u001b[0;36m<module>\u001b[1;34m\u001b[0m\n\u001b[0;32m     12\u001b[0m sports = {'Тарасова Т.А.': {'кабинет': 'спортзал', 'классы': [5, 6, 7, 8]}, \n\u001b[0;32m     13\u001b[0m           'Черчесов С.С.': {'кабинет': 'спортзал', 'классы': [9, 10, 11]}}\n\u001b[1;32m---> 14\u001b[1;33m my_new_school = {'математика': math,\n\u001b[0m\u001b[0;32m     15\u001b[0m                  \u001b[1;34m'русский язык'\u001b[0m\u001b[1;33m:\u001b[0m \u001b[0mrussian\u001b[0m\u001b[1;33m,\u001b[0m\u001b[1;33m\u001b[0m\u001b[1;33m\u001b[0m\u001b[0m\n\u001b[0;32m     16\u001b[0m                  \u001b[1;34m'английский язык'\u001b[0m\u001b[1;33m:\u001b[0m \u001b[0menglish\u001b[0m\u001b[1;33m,\u001b[0m\u001b[1;33m\u001b[0m\u001b[1;33m\u001b[0m\u001b[0m\n",
      "\u001b[1;31mNameError\u001b[0m: name 'math' is not defined"
     ]
    }
   ],
   "source": [
    "russian = {'Пушкина А.С.': {'кабинет': 4, 'классы': [5, 6, 7]}, \n",
    "           'Лермонтов М.Ю.': {'кабинет': 5, 'классы': [8, 9]}, \n",
    "           'Толстой Л.Н.': {'кабинет': 6, 'классы': [10, 11]}}\n",
    "english = {'Петров Д.Ю.': {'кабинет': 7, 'классы': [5, 6, 7, 8]}, \n",
    "           'Шекспир У.Б.': {'кабинет': 8, 'классы': [9, 10, 11]}}\n",
    "physics = {'Эйнштейн А.Э.': {'кабинет': 9, 'классы': [7, 8, 9]}, \n",
    "           'Коллайдер Б.А.': {'кабинет': 10, 'классы': [10, 11]}}\n",
    "chemistry = {'Менделеева Д.И.': {'кабинет': 11, 'классы': [8, 9]}, \n",
    "             'Кислота Л.И.': {'кабинет': 12, 'классы': [10, 11]}}\n",
    "biology = {'Мендель Г.И.': {'кабинет': 13, 'классы': [6, 7, 9]}, \n",
    "           'Дарвин Ч.Р.': {'кабинет': 14, 'классы': [8, 10, 11]}}\n",
    "sports = {'Тарасова Т.А.': {'кабинет': 'спортзал', 'классы': [5, 6, 7, 8]}, \n",
    "          'Черчесов С.С.': {'кабинет': 'спортзал', 'классы': [9, 10, 11]}}\n",
    "my_new_school = {'математика': math,\n",
    "                 'русский язык': russian,\n",
    "                 'английский язык': english,\n",
    "                 'физика': physics,\n",
    "                 'химия': chemistry, \n",
    "                 'биология': biology,\n",
    "                 'физкультура': sports}\n",
    "asked_subject = input('Какой предмет Вас интересует? ').lower()\n",
    "asked_class = int(input('В каком классе учится Ваш ребенок? '))\n",
    "\n",
    "for teacher, info in my_new_school[asked_subject].items():\n",
    "    if asked_class in info['классы']:\n",
    "        print(' ')\n",
    "        print('Предмет \"{}\" у Вашего ребенка ведет учитель {}'.format(asked_subject, teacher))\n",
    "        print('Занятия проходят в кабинете № {}.'.format(info['кабинет']))     \n",
    "        break"
   ]
  },
  {
   "cell_type": "code",
   "execution_count": 6,
   "metadata": {},
   "outputs": [
    {
     "name": "stdout",
     "output_type": "stream",
     "text": [
      "Какой предмет Вас интересует? ыв\n",
      "В каком классе учится Ваш ребенок? ыв\n"
     ]
    },
    {
     "ename": "ValueError",
     "evalue": "invalid literal for int() with base 10: 'ыв'",
     "output_type": "error",
     "traceback": [
      "\u001b[1;31m---------------------------------------------------------------------------\u001b[0m",
      "\u001b[1;31mValueError\u001b[0m                                Traceback (most recent call last)",
      "\u001b[1;32m<ipython-input-6-6087c8322635>\u001b[0m in \u001b[0;36m<module>\u001b[1;34m\u001b[0m\n\u001b[0;32m      1\u001b[0m \u001b[0masked_subject\u001b[0m \u001b[1;33m=\u001b[0m \u001b[0minput\u001b[0m\u001b[1;33m(\u001b[0m\u001b[1;34m'Какой предмет Вас интересует? '\u001b[0m\u001b[1;33m)\u001b[0m\u001b[1;33m.\u001b[0m\u001b[0mlower\u001b[0m\u001b[1;33m(\u001b[0m\u001b[1;33m)\u001b[0m\u001b[1;33m\u001b[0m\u001b[1;33m\u001b[0m\u001b[0m\n\u001b[1;32m----> 2\u001b[1;33m \u001b[0masked_class\u001b[0m \u001b[1;33m=\u001b[0m \u001b[0mint\u001b[0m\u001b[1;33m(\u001b[0m\u001b[0minput\u001b[0m\u001b[1;33m(\u001b[0m\u001b[1;34m'В каком классе учится Ваш ребенок? '\u001b[0m\u001b[1;33m)\u001b[0m\u001b[1;33m)\u001b[0m\u001b[1;33m\u001b[0m\u001b[1;33m\u001b[0m\u001b[0m\n\u001b[0m\u001b[0;32m      3\u001b[0m \u001b[1;33m\u001b[0m\u001b[0m\n\u001b[0;32m      4\u001b[0m \u001b[1;32mfor\u001b[0m \u001b[0mteacher\u001b[0m\u001b[1;33m,\u001b[0m \u001b[0minfo\u001b[0m \u001b[1;32min\u001b[0m \u001b[0mmy_new_school\u001b[0m\u001b[1;33m[\u001b[0m\u001b[0masked_subject\u001b[0m\u001b[1;33m]\u001b[0m\u001b[1;33m.\u001b[0m\u001b[0mitems\u001b[0m\u001b[1;33m(\u001b[0m\u001b[1;33m)\u001b[0m\u001b[1;33m:\u001b[0m\u001b[1;33m\u001b[0m\u001b[1;33m\u001b[0m\u001b[0m\n\u001b[0;32m      5\u001b[0m     \u001b[0mprint\u001b[0m\u001b[1;33m(\u001b[0m\u001b[0mteacher\u001b[0m\u001b[1;33m,\u001b[0m \u001b[0minfo\u001b[0m\u001b[1;33m)\u001b[0m\u001b[1;33m\u001b[0m\u001b[1;33m\u001b[0m\u001b[0m\n",
      "\u001b[1;31mValueError\u001b[0m: invalid literal for int() with base 10: 'ыв'"
     ]
    }
   ],
   "source": []
  },
  {
   "cell_type": "code",
   "execution_count": 9,
   "metadata": {},
   "outputs": [
    {
     "ename": "NameError",
     "evalue": "name 'math' is not defined",
     "output_type": "error",
     "traceback": [
      "\u001b[1;31m---------------------------------------------------------------------------\u001b[0m",
      "\u001b[1;31mNameError\u001b[0m                                 Traceback (most recent call last)",
      "\u001b[1;32m<ipython-input-9-dc629324097f>\u001b[0m in \u001b[0;36m<module>\u001b[1;34m\u001b[0m\n\u001b[0;32m     12\u001b[0m sports = {'Тарасова Т.А.': {'кабинет': 'спортзал', 'классы': [5, 6, 7, 8]}, \n\u001b[0;32m     13\u001b[0m           'Черчесов С.С.': {'кабинет': 'спортзал', 'классы': [9, 10, 11]}}\n\u001b[1;32m---> 14\u001b[1;33m my_new_school = {'математика': math,\n\u001b[0m\u001b[0;32m     15\u001b[0m                  \u001b[1;34m'русский язык'\u001b[0m\u001b[1;33m:\u001b[0m \u001b[0mrussian\u001b[0m\u001b[1;33m,\u001b[0m\u001b[1;33m\u001b[0m\u001b[1;33m\u001b[0m\u001b[0m\n\u001b[0;32m     16\u001b[0m                  \u001b[1;34m'английский язык'\u001b[0m\u001b[1;33m:\u001b[0m \u001b[0menglish\u001b[0m\u001b[1;33m,\u001b[0m\u001b[1;33m\u001b[0m\u001b[1;33m\u001b[0m\u001b[0m\n",
      "\u001b[1;31mNameError\u001b[0m: name 'math' is not defined"
     ]
    }
   ],
   "source": [
    "russian = {'Пушкина А.С.': {'кабинет': 4, 'классы': [5, 6, 7]}, \n",
    "           'Лермонтов М.Ю.': {'кабинет': 5, 'классы': [8, 9]}, \n",
    "           'Толстой Л.Н.': {'кабинет': 6, 'классы': [10, 11]}}\n",
    "english = {'Петров Д.Ю.': {'кабинет': 7, 'классы': [5, 6, 7, 8]}, \n",
    "           'Шекспир У.Б.': {'кабинет': 8, 'классы': [9, 10, 11]}}\n",
    "physics = {'Эйнштейн А.Э.': {'кабинет': 9, 'классы': [7, 8, 9]}, \n",
    "           'Коллайдер Б.А.': {'кабинет': 10, 'классы': [10, 11]}}\n",
    "chemistry = {'Менделеева Д.И.': {'кабинет': 11, 'классы': [8, 9]}, \n",
    "             'Кислота Л.И.': {'кабинет': 12, 'классы': [10, 11]}}\n",
    "biology = {'Мендель Г.И.': {'кабинет': 13, 'классы': [6, 7, 9]}, \n",
    "           'Дарвин Ч.Р.': {'кабинет': 14, 'классы': [8, 10, 11]}}\n",
    "sports = {'Тарасова Т.А.': {'кабинет': 'спортзал', 'классы': [5, 6, 7, 8]}, \n",
    "          'Черчесов С.С.': {'кабинет': 'спортзал', 'классы': [9, 10, 11]}}\n",
    "my_new_school = {'математика': math,\n",
    "                 'русский язык': russian,\n",
    "                 'английский язык': english,\n",
    "                 'физика': physics,\n",
    "                 'химия': chemistry, \n",
    "                 'биология': biology,\n",
    "                 'физкультура': sports}\n",
    "asked_subject = input('Какой предмет Вас интересует? ').lower()\n",
    "asked_class = int(input('В каком классе учится Ваш ребенок? '))\n",
    "\n",
    "for teacher, info in my_new_school[asked_subject].items():\n",
    "    if asked_class in info['классы']:\n",
    "        print(' ')\n",
    "        print('Предмет \"{}\" у Вашего ребенка ведет учитель {}'.format(asked_subject, teacher))\n",
    "        print('Занятия проходят в кабинете № {}.'.format(info['кабинет']))     \n",
    "        break"
   ]
  },
  {
   "cell_type": "code",
   "execution_count": null,
   "metadata": {},
   "outputs": [],
   "source": []
  }
 ],
 "metadata": {
  "kernelspec": {
   "display_name": "Python 3",
   "language": "python",
   "name": "python3"
  },
  "language_info": {
   "codemirror_mode": {
    "name": "ipython",
    "version": 3
   },
   "file_extension": ".py",
   "mimetype": "text/x-python",
   "name": "python",
   "nbconvert_exporter": "python",
   "pygments_lexer": "ipython3",
   "version": "3.8.3"
  }
 },
 "nbformat": 4,
 "nbformat_minor": 4
}
