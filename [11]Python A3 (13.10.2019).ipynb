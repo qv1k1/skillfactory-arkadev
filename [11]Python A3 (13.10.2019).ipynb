{
 "cells": [
  {
   "cell_type": "markdown",
   "metadata": {},
   "source": [
    "# Общие приёмы работы со строками"
   ]
  },
  {
   "cell_type": "code",
   "execution_count": 1,
   "metadata": {},
   "outputs": [],
   "source": [
    "string = 'Семь бед — один reset'"
   ]
  },
  {
   "cell_type": "markdown",
   "metadata": {},
   "source": [
    "### Перебор элементов и работа с индексами "
   ]
  },
  {
   "cell_type": "code",
   "execution_count": 5,
   "metadata": {},
   "outputs": [
    {
     "data": {
      "text/plain": [
       "'семь'"
      ]
     },
     "execution_count": 5,
     "metadata": {},
     "output_type": "execute_result"
    }
   ],
   "source": [
    "# Вывести на экран слово \"семь\"\n",
    "string[:4].lower()"
   ]
  },
  {
   "cell_type": "code",
   "execution_count": 6,
   "metadata": {},
   "outputs": [
    {
     "data": {
      "text/plain": [
       "'один'"
      ]
     },
     "execution_count": 6,
     "metadata": {},
     "output_type": "execute_result"
    }
   ],
   "source": [
    "# Вывести на экран слово \"один\"\n",
    "string.split()[3]"
   ]
  },
  {
   "cell_type": "code",
   "execution_count": 7,
   "metadata": {},
   "outputs": [
    {
     "data": {
      "text/plain": [
       "'один'"
      ]
     },
     "execution_count": 7,
     "metadata": {},
     "output_type": "execute_result"
    }
   ],
   "source": [
    "string[-10:-6]"
   ]
  },
  {
   "cell_type": "code",
   "execution_count": 8,
   "metadata": {},
   "outputs": [
    {
     "data": {
      "text/plain": [
       "'один'"
      ]
     },
     "execution_count": 8,
     "metadata": {},
     "output_type": "execute_result"
    }
   ],
   "source": [
    "string[11:15]"
   ]
  },
  {
   "cell_type": "code",
   "execution_count": 9,
   "metadata": {},
   "outputs": [
    {
     "data": {
      "text/plain": [
       "'reset'"
      ]
     },
     "execution_count": 9,
     "metadata": {},
     "output_type": "execute_result"
    }
   ],
   "source": [
    "# Вывести на экран слово \"reset\"\n",
    "string[-5:]"
   ]
  },
  {
   "cell_type": "code",
   "execution_count": 10,
   "metadata": {},
   "outputs": [
    {
     "data": {
      "text/plain": [
       "'reset'"
      ]
     },
     "execution_count": 10,
     "metadata": {},
     "output_type": "execute_result"
    }
   ],
   "source": [
    "string.split()[4]"
   ]
  },
  {
   "cell_type": "code",
   "execution_count": 12,
   "metadata": {},
   "outputs": [
    {
     "data": {
      "text/plain": [
       "'teser'"
      ]
     },
     "execution_count": 12,
     "metadata": {},
     "output_type": "execute_result"
    }
   ],
   "source": [
    "# Вывести на экран слово \"reset\" задом наперёд\n",
    "string[-1:-6:-1]"
   ]
  },
  {
   "cell_type": "code",
   "execution_count": 13,
   "metadata": {},
   "outputs": [
    {
     "data": {
      "text/plain": [
       "'teser'"
      ]
     },
     "execution_count": 13,
     "metadata": {},
     "output_type": "execute_result"
    }
   ],
   "source": [
    "''.join(reversed(string[-5:]))"
   ]
  },
  {
   "cell_type": "code",
   "execution_count": 16,
   "metadata": {},
   "outputs": [
    {
     "name": "stdout",
     "output_type": "stream",
     "text": [
      "С\n",
      "е\n",
      "м\n",
      "ь\n",
      " \n",
      "б\n",
      "е\n",
      "д\n",
      " \n",
      "—\n",
      " \n",
      "о\n",
      "д\n",
      "и\n",
      "н\n",
      " \n",
      "r\n",
      "e\n",
      "s\n",
      "e\n",
      "t\n"
     ]
    }
   ],
   "source": [
    "# Вывести на экран всю строку в столбик\n",
    "for ch in string:\n",
    "    print(ch)"
   ]
  },
  {
   "cell_type": "code",
   "execution_count": 17,
   "metadata": {},
   "outputs": [
    {
     "name": "stdout",
     "output_type": "stream",
     "text": [
      "С*е*м*ь* *б*е*д* *—* *о*д*и*н* *r*e*s*e*t*"
     ]
    }
   ],
   "source": [
    "# Вывести на экран всю строку (в строчку), добавив знак \"*\" между символами\n",
    "for i in string:\n",
    "    print(i, end='*')"
   ]
  },
  {
   "cell_type": "markdown",
   "metadata": {},
   "source": [
    "Задание: вывести на экран строку задом наперёд двумя способами:"
   ]
  },
  {
   "cell_type": "code",
   "execution_count": 18,
   "metadata": {},
   "outputs": [
    {
     "data": {
      "text/plain": [
       "'teser нидо — деб ьмеС'"
      ]
     },
     "execution_count": 18,
     "metadata": {},
     "output_type": "execute_result"
    }
   ],
   "source": [
    "# с помощью среза\n",
    "string[::-1]"
   ]
  },
  {
   "cell_type": "code",
   "execution_count": 21,
   "metadata": {},
   "outputs": [
    {
     "name": "stdout",
     "output_type": "stream",
     "text": [
      "teser нидо — деб ьмеС"
     ]
    }
   ],
   "source": [
    "# с помощью цикла\n",
    "i=len(string)\n",
    "while i>0:\n",
    "    i-=1\n",
    "    print(string[i],end='')"
   ]
  },
  {
   "cell_type": "code",
   "execution_count": 25,
   "metadata": {},
   "outputs": [
    {
     "name": "stdout",
     "output_type": "stream",
     "text": [
      "teser нидо — деб ьмеС"
     ]
    }
   ],
   "source": [
    "for i in range(len(string)-1, -1, -1): \n",
    "    print(string[i], end='')"
   ]
  },
  {
   "cell_type": "markdown",
   "metadata": {},
   "source": [
    "### Поиск подстроки в строке"
   ]
  },
  {
   "cell_type": "code",
   "execution_count": 27,
   "metadata": {},
   "outputs": [],
   "source": [
    "info = 'Фамилия: Иванов, имя: Иван, e-mail: vanya@ivanov.me'"
   ]
  },
  {
   "cell_type": "markdown",
   "metadata": {},
   "source": [
    "Задание: выделить из строки email двумя способами:"
   ]
  },
  {
   "cell_type": "code",
   "execution_count": 29,
   "metadata": {},
   "outputs": [
    {
     "data": {
      "text/plain": [
       "'vanya@ivanov.me'"
      ]
     },
     "execution_count": 29,
     "metadata": {},
     "output_type": "execute_result"
    }
   ],
   "source": [
    "# с помощью split:\n",
    "info.split()[-1]"
   ]
  },
  {
   "cell_type": "code",
   "execution_count": 31,
   "metadata": {},
   "outputs": [
    {
     "data": {
      "text/plain": [
       "'vanya@ivanov.me'"
      ]
     },
     "execution_count": 31,
     "metadata": {},
     "output_type": "execute_result"
    }
   ],
   "source": [
    "# с помощью find:\n",
    "info[info.find('e-mail: ')+8:]"
   ]
  },
  {
   "cell_type": "markdown",
   "metadata": {},
   "source": [
    "Задание: выделить из строки имя человека"
   ]
  },
  {
   "cell_type": "code",
   "execution_count": 33,
   "metadata": {},
   "outputs": [
    {
     "data": {
      "text/plain": [
       "'Иван'"
      ]
     },
     "execution_count": 33,
     "metadata": {},
     "output_type": "execute_result"
    }
   ],
   "source": [
    "# с помощью split:\n",
    "info.split()[3][:-1]"
   ]
  },
  {
   "cell_type": "code",
   "execution_count": 34,
   "metadata": {},
   "outputs": [
    {
     "data": {
      "text/plain": [
       "'Иван'"
      ]
     },
     "execution_count": 34,
     "metadata": {},
     "output_type": "execute_result"
    }
   ],
   "source": [
    "# с помощью find:\n",
    "info[info.find('имя')+5:info.find('e-mail:')-2]"
   ]
  },
  {
   "cell_type": "code",
   "execution_count": 37,
   "metadata": {},
   "outputs": [
    {
     "data": {
      "text/plain": [
       "{'Фамилия': 'Иванов', ' имя': 'Иван', ' e-mail': 'vanya@ivanov.me'}"
      ]
     },
     "execution_count": 37,
     "metadata": {},
     "output_type": "execute_result"
    }
   ],
   "source": [
    "d = {}\n",
    "for i in info.split(\",\"):\n",
    "    i = i.split(\": \")\n",
    "    d[i[0]] = i[1]\n",
    "d"
   ]
  },
  {
   "cell_type": "markdown",
   "metadata": {},
   "source": [
    "Задание: составить новую строку, содержащую имя и фамилию человека через пробел, и далее в скобках - электронный адрес  \n",
    "Пример: Иван Иванов (vanya@ivanov.me)"
   ]
  },
  {
   "cell_type": "code",
   "execution_count": 42,
   "metadata": {},
   "outputs": [
    {
     "data": {
      "text/plain": [
       "'Иван Иванов (vanya@ivanov.me)'"
      ]
     },
     "execution_count": 42,
     "metadata": {},
     "output_type": "execute_result"
    }
   ],
   "source": [
    "info = 'Фамилия: Иванов, имя: Иван, e-mail: vanya@ivanov.me'\n",
    "f=info.split()\n",
    "f[3][:-1]+' '+f[1][:-1]+' ('+f[5]+')'"
   ]
  },
  {
   "cell_type": "code",
   "execution_count": 45,
   "metadata": {},
   "outputs": [
    {
     "name": "stdout",
     "output_type": "stream",
     "text": [
      "Иван Иванов (vanya@ivanov.me)\n"
     ]
    }
   ],
   "source": [
    "name = info.split()[3][:-1]\n",
    "surname = info.split()[1][:-1]\n",
    "email = info.split()[5]\n",
    "print('{} {} ({})'.format(name, surname, email))"
   ]
  },
  {
   "cell_type": "code",
   "execution_count": 44,
   "metadata": {},
   "outputs": [
    {
     "data": {
      "text/plain": [
       "'Иван Иванов (vanya@ivanov.me)'"
      ]
     },
     "execution_count": 44,
     "metadata": {},
     "output_type": "execute_result"
    }
   ],
   "source": [
    "(info.split()[3]+info.split()[1]+'('+info.split()[5]+')').replace(',',' ')"
   ]
  },
  {
   "cell_type": "code",
   "execution_count": 48,
   "metadata": {},
   "outputs": [
    {
     "name": "stdout",
     "output_type": "stream",
     "text": [
      "Иванов Иван (vanya@ivanov.me)\n"
     ]
    }
   ],
   "source": [
    "print (info[info.find(\"Фамилия: \")+9:info.find(\", имя\")],info[info.find(\"имя: \")+5:info.find(\", e-mail: \")],\"({})\".format(info[info.find('e-mail:')+8:]))"
   ]
  },
  {
   "cell_type": "code",
   "execution_count": 46,
   "metadata": {},
   "outputs": [
    {
     "data": {
      "text/plain": [
       "'АбрАкАдАбрА'"
      ]
     },
     "execution_count": 46,
     "metadata": {},
     "output_type": "execute_result"
    }
   ],
   "source": [
    "string = 'абракадабра'\n",
    "string.replace('а', 'А')"
   ]
  },
  {
   "cell_type": "markdown",
   "metadata": {},
   "source": [
    "# Работа с файлами и регулярными выражениями "
   ]
  },
  {
   "cell_type": "markdown",
   "metadata": {},
   "source": [
    "Знакомимся с содержимым файла info.txt  \n",
    "Ссылка на файл, если не удастся создать его самостоятельно: https://yadi.sk/d/7xGMsT4oQYTu_Q"
   ]
  },
  {
   "cell_type": "code",
   "execution_count": 57,
   "metadata": {
    "scrolled": true
   },
   "outputs": [
    {
     "name": "stdout",
     "output_type": "stream",
     "text": [
      "Иванов\tИван\t1.01.1996\tvanya@mail.ru\t+7 (903) 221-23-35\n",
      "Смит\tАнна\t3.09.1985\tbeauty@gmail.com\t+1 (501) 342-52-31\n",
      "Петров\tПетр\t5.05.1965\tbig_boss@mail.ru\t+7 (999) 345-67-89\n",
      "Сидорова\tАнгелина\t21.06.1977\ta.sidorova@yandex.ru\t+7 (777) 234-56-83\n",
      "Дятлов\tАнатолий\t13.02.1997\tterminator@mail.ru\t+7 (920) 253-43-21\n",
      "Красавцева\tЮлия\t15.04.1998\tyulechka@gmail.com\t+45 (3452) 234-32-34\n"
     ]
    }
   ],
   "source": [
    "with open('info.txt') as f:\n",
    "    for line in f:\n",
    "        print(line, end = '')"
   ]
  },
  {
   "cell_type": "markdown",
   "metadata": {},
   "source": [
    "Задание: вывести на экран список имён сотрудников:"
   ]
  },
  {
   "cell_type": "code",
   "execution_count": 55,
   "metadata": {},
   "outputs": [
    {
     "name": "stdout",
     "output_type": "stream",
     "text": [
      "Иван\n",
      "Анна\n",
      "Петр\n",
      "Ангелина\n",
      "Анатолий\n",
      "Юлия\n"
     ]
    }
   ],
   "source": [
    "with open('info.txt') as f:\n",
    "    for line in f:\n",
    "        print(line.split('\\t')[1]) "
   ]
  },
  {
   "cell_type": "markdown",
   "metadata": {},
   "source": [
    "Задание: вывести отдельно имена и фамилии молодых (до 25 лет) и опытных сотрудников"
   ]
  },
  {
   "cell_type": "code",
   "execution_count": 61,
   "metadata": {},
   "outputs": [
    {
     "name": "stdout",
     "output_type": "stream",
     "text": [
      "МОЛОДЫЕ\n",
      "Иван Иванов\n",
      "Анатолий Дятлов\n",
      "Юлия Красавцева\n",
      "\n",
      "ОПЫТНЫЕ\n",
      "Анна Смит\n",
      "Петр Петров\n",
      "Ангелина Сидорова\n",
      "\n"
     ]
    }
   ],
   "source": [
    "staff = {'молодые':[], 'опытные':[]}\n",
    "with open('info.txt') as f:\n",
    "    for line in f:\n",
    "        info = line.split('\\t')\n",
    "        date = info[2]\n",
    "        name = info[1]\n",
    "        surname = info[0]\n",
    "        age = 2019-int(date[-4:])\n",
    "        if age > 25:\n",
    "            staff['опытные'].append('{} {}'.format(name, surname))\n",
    "        else:\n",
    "            staff['молодые'].append('{} {}'.format(name, surname))\n",
    "\n",
    "            \n",
    "for experience in staff.keys():\n",
    "    print(experience.upper())\n",
    "    for person in staff[experience]:\n",
    "        print(person)\n",
    "    print()"
   ]
  },
  {
   "cell_type": "markdown",
   "metadata": {},
   "source": [
    "#### Задание:\n",
    "Составить словарь, содержащий информацию о количестве сотрудников из России (+7 (9...)), Казахстана (+7 (7...)) и дальнего зарубежья."
   ]
  },
  {
   "cell_type": "code",
   "execution_count": 71,
   "metadata": {},
   "outputs": [
    {
     "data": {
      "text/plain": [
       "{'Россия': 3, 'Казахстан': 1, 'Дальнее зарубежье': 2}"
      ]
     },
     "execution_count": 71,
     "metadata": {},
     "output_type": "execute_result"
    }
   ],
   "source": [
    "# С использованием регулярных выражений:\n",
    "import re\n",
    "new_staff = {'Россия':0, 'Казахстан':0, 'Дальнее зарубежье':0}\n",
    "with open('info.txt') as f:\n",
    "    pattern = re.compile('\\+\\d+ \\(\\d')\n",
    "    for line in f:\n",
    "        tel = pattern.findall(line)[0].split()\n",
    "        if tel[0] == '+7':\n",
    "            if tel[1] == '(7':\n",
    "                new_staff['Казахстан'] += 1\n",
    "            else:\n",
    "                new_staff['Россия'] += 1\n",
    "        else:\n",
    "            new_staff['Дальнее зарубежье'] += 1\n",
    "new_staff"
   ]
  },
  {
   "cell_type": "code",
   "execution_count": 70,
   "metadata": {},
   "outputs": [
    {
     "data": {
      "text/plain": [
       "['+45', '(3']"
      ]
     },
     "execution_count": 70,
     "metadata": {},
     "output_type": "execute_result"
    }
   ],
   "source": [
    "pattern = re.compile('\\+\\d+ \\(\\d')\n",
    "pattern.findall(line)[0].split()"
   ]
  },
  {
   "cell_type": "code",
   "execution_count": 73,
   "metadata": {},
   "outputs": [],
   "source": [
    "a = 'hello'"
   ]
  },
  {
   "cell_type": "code",
   "execution_count": 74,
   "metadata": {},
   "outputs": [
    {
     "data": {
      "text/plain": [
       "5"
      ]
     },
     "execution_count": 74,
     "metadata": {},
     "output_type": "execute_result"
    }
   ],
   "source": [
    "len(a)"
   ]
  },
  {
   "cell_type": "code",
   "execution_count": null,
   "metadata": {},
   "outputs": [],
   "source": []
  }
 ],
 "metadata": {
  "kernelspec": {
   "display_name": "Python 3",
   "language": "python",
   "name": "python3"
  },
  "language_info": {
   "codemirror_mode": {
    "name": "ipython",
    "version": 3
   },
   "file_extension": ".py",
   "mimetype": "text/x-python",
   "name": "python",
   "nbconvert_exporter": "python",
   "pygments_lexer": "ipython3",
   "version": "3.8.3"
  }
 },
 "nbformat": 4,
 "nbformat_minor": 2
}
