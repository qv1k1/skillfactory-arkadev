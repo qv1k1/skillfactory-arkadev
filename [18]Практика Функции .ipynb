{
 "cells": [
  {
   "cell_type": "code",
   "execution_count": 2,
   "metadata": {},
   "outputs": [],
   "source": [
    "# Это определение функции, которая возводит число в квадрат    \n",
    "def square(x):    \n",
    "    return x**2    \n",
    "    \n",
    "# Это вызов функции. Мы возведём 5 в квадрат и положим 25 в переменную square_result    \n",
    "square_result = square(5)    \n",
    "    \n",
    "    \n",
    "# Определение стоимости в магазине всё по 60, где только яблоки стоят 30    \n",
    "def count_cost(product):    \n",
    "    if product == \"apple\":    \n",
    "        cost = 30    \n",
    "    else:    \n",
    "        cost = 60    \n",
    "    return cost    \n",
    "    \n",
    "# Попросим функцию посчитать стоимость апельсина    \n",
    "orange_cost = count_cost(\"orange\")   \n"
   ]
  },
  {
   "cell_type": "code",
   "execution_count": 4,
   "metadata": {},
   "outputs": [
    {
     "name": "stdout",
     "output_type": "stream",
     "text": [
      "400\n"
     ]
    }
   ],
   "source": [
    "#Посчитать квадрат \n",
    "def square(x):\n",
    "    return x**2\n",
    "\n",
    "square_result = square(20)\n",
    "\n",
    "print(square_result)\n"
   ]
  },
  {
   "cell_type": "code",
   "execution_count": 6,
   "metadata": {},
   "outputs": [
    {
     "name": "stdout",
     "output_type": "stream",
     "text": [
      "115\n"
     ]
    }
   ],
   "source": [
    "#Исправить код\n",
    "#def sum_2(_, _):\n",
    "#    result = ...\n",
    "#    return result\n",
    "def sum_2(x, y):\n",
    "    result = x + y\n",
    "    return result\n",
    "\n",
    "summa = sum_2(42, 73)\n",
    "\n",
    "print(summa)"
   ]
  },
  {
   "cell_type": "code",
   "execution_count": 11,
   "metadata": {},
   "outputs": [],
   "source": [
    "def power(x, y):\n",
    "    result = x**y\n",
    "    return result"
   ]
  },
  {
   "cell_type": "code",
   "execution_count": 17,
   "metadata": {},
   "outputs": [],
   "source": [
    "#get_median\n",
    "#Постройте функцию get_median, которая принимает на вход список чисел и возвращает медиану, например, для этого списка.\n",
    "#get_median([5, 2, 1, 3, 4]) должен вернуть 3\n",
    "#get_median([3, 3, 7, 9]) должен вернуть 5.0\n",
    "\n",
    "def get_median(numbers_list):\n",
    "    length = len(numbers_list)\n",
    "    numbers_list.sort()\n",
    "    if length % 2 == 0:\n",
    "        result = (numbers_list[int(length / 2)] + numbers_list[int(length/2 - 1)]) / 2\n",
    "        return result\n",
    "    else:\n",
    "        result = numbers_list[int(length / 2)]\n",
    "        return result"
   ]
  },
  {
   "cell_type": "code",
   "execution_count": 18,
   "metadata": {},
   "outputs": [
    {
     "name": "stdout",
     "output_type": "stream",
     "text": [
      "3\n",
      "5.0\n"
     ]
    }
   ],
   "source": [
    "print(get_median([5, 2, 1, 3, 4]))\n",
    "print(get_median([3, 3, 7, 9]))"
   ]
  },
  {
   "cell_type": "code",
   "execution_count": 19,
   "metadata": {},
   "outputs": [
    {
     "name": "stdout",
     "output_type": "stream",
     "text": [
      "['€5.71', '€2.86', '€2.14']\n"
     ]
    }
   ],
   "source": [
    "#Зачем использовать функции\n",
    "#Мы рассмотрели, как определяются и используются функции. \n",
    "#Вы могли заметить, что функции делают все те же команды, что и обычно. Ключевой вопрос: зачем и когда их использовать?\n",
    "\n",
    "#Разберёмся на примере. Допустим, у нас есть таблица с ценами в рублях, \n",
    "#а мы хотим пересчитать их в евро и отформатировать. Сделаем это сначала без функций.\n",
    "\n",
    "ticket_db = [{'price': 400}, {'price': 200}, {'price': 150}]    \n",
    "    \n",
    "tickets_euro = []    \n",
    "for ticket in ticket_db:    \n",
    "    converted = ticket['price'] / 70    \n",
    "    rounded = round(converted, 2)     \n",
    "    formatted = '€' + str(rounded)    \n",
    "    tickets_euro.append(formatted)    \n",
    "        \n",
    "print(tickets_euro)    \n",
    "# => ['€5.71', '€2.86', '€2.14']   "
   ]
  },
  {
   "cell_type": "code",
   "execution_count": 20,
   "metadata": {},
   "outputs": [
    {
     "name": "stdout",
     "output_type": "stream",
     "text": [
      "['€5.71', '€2.86', '€2.14'] ['€0.71', '€0.57'] ['€1.43', '€1.36', '€2.14']\n"
     ]
    }
   ],
   "source": [
    "#Пока всё неплохо. Но проходит время, \n",
    "#и у нас появляется ещё две таблицы с ценами, и с каждой нужно сделать ту же самую операцию.\n",
    "\n",
    "ticket_db = [{'price': 400}, {'price': 200}, {'price': 150}]  \n",
    "  \n",
    "tickets_euro = []  \n",
    "for ticket in ticket_db:  \n",
    "    converted = ticket['price'] / 70  \n",
    "    rounded = round(converted, 2)   \n",
    "    formatted = '€' + str(rounded)  \n",
    "    tickets_euro.append(formatted)  \n",
    "      \n",
    "guide_db = [{'price': 50}, {'price': 40}]  \n",
    "\n",
    "\n",
    "guides_euro = []  \n",
    "\n",
    "for guide in guide_db:  \n",
    "    converted = guide['price'] / 70  \n",
    "    rounded = round(converted, 2)   \n",
    "    formatted = '€' + str(rounded)  \n",
    "    guides_euro.append(formatted)  \n",
    "\n",
    "\n",
    "snack_db = [{'price': 100}, {'price': 95}, {'price': 150}]  \n",
    "  \n",
    "snacks_euro = [] \n",
    "\n",
    "for snack in snack_db:  \n",
    "    converted = snack['price'] / 70  \n",
    "    rounded = round(converted, 2)   \n",
    "    formatted = '€' + str(rounded)  \n",
    "    snacks_euro.append(formatted)  \n",
    "\n",
    "    \n",
    "print(tickets_euro, guides_euro, snacks_euro)  "
   ]
  },
  {
   "cell_type": "code",
   "execution_count": 21,
   "metadata": {},
   "outputs": [
    {
     "name": "stdout",
     "output_type": "stream",
     "text": [
      "['€5.71', '€2.86', '€2.14'] ['€0.71', '€0.57'] ['€1.43', '€1.36', '€2.14']\n"
     ]
    }
   ],
   "source": [
    "#Мы видим, что одни и те же операции повторяются раз за разом. Когда вы где-то встречаете такое, вы должны сразу подумать: \n",
    "#\"О, отличное место для функции\". Перепишем этот пример с использованием функций.\n",
    "\n",
    "def to_euro(price):  \n",
    "    exchange_rate = 70  \n",
    "    rounded = round(price/exchange_rate, 2)  \n",
    "    return '€' + str(rounded)  \n",
    "  \n",
    "def db_to_euro(db):  \n",
    "    return [to_euro(item['price']) for item in db]  \n",
    "  \n",
    "\n",
    "ticket_db = [{'price': 400}, {'price': 200}, {'price': 150}]  \n",
    "guide_db = [{'price': 50}, {'price': 40}]  \n",
    "snack_db = [{'price': 100}, {'price': 95}, {'price': 150}]  \n",
    "  \n",
    "tickets_euro = db_to_euro(ticket_db)  \n",
    "guides_euro = db_to_euro(guide_db)  \n",
    "snacks_euro = db_to_euro(snack_db)  \n",
    "  \n",
    "print(tickets_euro, guides_euro, snacks_euro)  "
   ]
  },
  {
   "cell_type": "code",
   "execution_count": 22,
   "metadata": {},
   "outputs": [
    {
     "name": "stdout",
     "output_type": "stream",
     "text": [
      "29.0\n"
     ]
    }
   ],
   "source": [
    "#Определить функцию авг, которая возвращает среднее число заказов по данным в базе \n",
    "\n",
    "user_db = [{'orders': 12}, {'orders': 30}, {'orders': 45}]\n",
    "\n",
    "def avg_orders(user_db):\n",
    "    order_sum = sum([user['orders'] for user in user_db])\n",
    "    orders_per_user = order_sum / len(user_db)\n",
    "    return orders_per_user\n",
    "\n",
    "\n",
    "result = avg_orders(user_db)\n",
    "print(result)"
   ]
  },
  {
   "cell_type": "code",
   "execution_count": 2,
   "metadata": {},
   "outputs": [
    {
     "name": "stdout",
     "output_type": "stream",
     "text": [
      "0.4344850556187627\n"
     ]
    }
   ],
   "source": [
    "#Определите функцию get_euro_rate, которая возвращает \n",
    "#случайное число от 65 до 85. Перепишите to_euro из примера выше, чтобы вместо постоянного exchange_rate 70 \n",
    "#она использовала get_euro_rate\n",
    "\n",
    "#Для выполнения задания вам потребуется функция random() из модуля random, которая возвращает случайное число от 0 до 1\n",
    "\n",
    "from random import random\n",
    "print(random())"
   ]
  },
  {
   "cell_type": "code",
   "execution_count": 3,
   "metadata": {},
   "outputs": [],
   "source": [
    "\n",
    "# добавьте функцию get_euro_rate\n",
    "from random import random\n",
    "\n",
    "def get_euro_rate():\n",
    "    curs = random()*20 + 65\n",
    "    return curs\n",
    "\n",
    "\n",
    "# используйте get_euro_rate в следующей функции\n",
    "def to_euro(price):  \n",
    "    exchange_rate = get_euro_rate()\n",
    "    rounded = round(price/exchange_rate, 2)  \n",
    "    return '€' + str(rounded)"
   ]
  },
  {
   "cell_type": "code",
   "execution_count": 5,
   "metadata": {},
   "outputs": [
    {
     "name": "stdout",
     "output_type": "stream",
     "text": [
      "Hello\n"
     ]
    }
   ],
   "source": [
    "#Функции как объект¶\n",
    "#В Python функции являются объектами, поэтому вы можете обращаться с ними, \n",
    "#как и с любой другой переменной. Например, вы можете положить функцию в другую переменную\n",
    "\n",
    "# Определим функцию, которая печатает \"привет\"  \n",
    "def say_hello():  \n",
    "    print(\"Hello\")  \n",
    "\n",
    "# Мы можем положить её в другую переменную  \n",
    "greetings = say_hello  \n",
    "  \n",
    "# И она сработает так же, как исходная say_hello  \n",
    "greetings()  "
   ]
  },
  {
   "cell_type": "code",
   "execution_count": 6,
   "metadata": {},
   "outputs": [
    {
     "name": "stdout",
     "output_type": "stream",
     "text": [
      "I'm using <function double_string at 0x00000260FF4E99D0>\n"
     ]
    },
    {
     "data": {
      "text/plain": [
       "'hellohello'"
      ]
     },
     "execution_count": 6,
     "metadata": {},
     "output_type": "execute_result"
    }
   ],
   "source": [
    "#Так же вы можете передавать одну функцию в другую как аргумент. \n",
    "#Обратите внимание, что когда мы обращаемся с функцией, как с переменной, мы не пишем скобки после имени функции.\n",
    "def apply_the_operation(operation, argument):  \n",
    "    print(\"I'm using\", operation)  \n",
    "    return operation(argument)  \n",
    "  \n",
    "\n",
    "def double_string(string):  \n",
    "    return string*2  \n",
    "  \n",
    "# передаём функцию double_string в apply_the_operation  \n",
    "apply_the_operation(double_string, 'hello') "
   ]
  },
  {
   "cell_type": "code",
   "execution_count": 7,
   "metadata": {},
   "outputs": [
    {
     "name": "stdout",
     "output_type": "stream",
     "text": [
      "10\n"
     ]
    }
   ],
   "source": [
    "all_the = sum\n",
    "magic = range\n",
    "print(all_the(magic(5)))"
   ]
  },
  {
   "cell_type": "code",
   "execution_count": 8,
   "metadata": {},
   "outputs": [
    {
     "data": {
      "text/plain": [
       "['Mr. Boris', 'Mr. Ivan', 'Mr. Bob']"
      ]
     },
     "execution_count": 8,
     "metadata": {},
     "output_type": "execute_result"
    }
   ],
   "source": [
    "#Что такое map\n",
    "#Мы видели, что можем передавать функцию как переменную. \n",
    "#При работе с данными часто используется библиотечная функция map, \n",
    "#которая как раз одним из аргументов принимает функцию. Map применяет эту функцию \n",
    "#к каждому элементу списка, который мы передаём вторым аргументом. \n",
    "\n",
    "#Пусть, например, у нас есть список имён, и мы хотим получить для каждого вежливую форму. \n",
    "# => Определим функцию polite_name, которая делает вежливым одно имя \n",
    "def polite_name(name):  \n",
    "    return 'Mr. ' + name   \n",
    "  \n",
    "guests = [\"Boris\", \"Ivan\", \"Bob\"]\n",
    "guest_iterator = map(polite_name, guests)  # здесь мы применили polite_name к каждому имени  \n",
    "list(guest_iterator)  # вывoд  "
   ]
  },
  {
   "cell_type": "code",
   "execution_count": 9,
   "metadata": {},
   "outputs": [
    {
     "data": {
      "text/plain": [
       "[10.0, 1.0, 4.2, 0.73]"
      ]
     },
     "execution_count": 9,
     "metadata": {},
     "output_type": "execute_result"
    }
   ],
   "source": [
    "#Мы также можем использовать map со встроенными функциями. Вот, например, способ преобразовать строки в числа\n",
    "num_strings = [\"10\", \"1\", \"4.2\", \"0.73\"]  \n",
    "  \n",
    "list(map(float, num_strings)) "
   ]
  },
  {
   "cell_type": "code",
   "execution_count": 10,
   "metadata": {},
   "outputs": [
    {
     "data": {
      "text/plain": [
       "73"
      ]
     },
     "execution_count": 10,
     "metadata": {},
     "output_type": "execute_result"
    }
   ],
   "source": [
    "list(map(abs, [10,  -1, 42, -73]))[3] # К списку применяется abs, потом выводится элемент с индексом 3."
   ]
  },
  {
   "cell_type": "code",
   "execution_count": 15,
   "metadata": {},
   "outputs": [
    {
     "name": "stdout",
     "output_type": "stream",
     "text": [
      "[3, 3, 4, 2, 3]\n"
     ]
    }
   ],
   "source": [
    "word_sizes = list(map(len, [\"all\", \"you\", \"need\", \"is\", \"map\"]))\n",
    "print(word_sizes)"
   ]
  },
  {
   "cell_type": "code",
   "execution_count": 16,
   "metadata": {},
   "outputs": [
    {
     "data": {
      "text/plain": [
       "64"
      ]
     },
     "execution_count": 16,
     "metadata": {},
     "output_type": "execute_result"
    }
   ],
   "source": [
    "#ямбда-функции\n",
    "#На практике функции для map часто бывают короткими и используются только один раз. \n",
    "#В этом случае удобно применять так называемые анонимные функции (или лямбда-функции): \n",
    "#они позволяют определять функции лаконичнее, прямо в месте использования.\n",
    "\n",
    "#Анонимные функции могут содержать лишь одно выражение, и им необязательно давать имя. \n",
    "#Анонимные функции создаются с помощью инструкции lambda и немного отличаются синтаксисом. Давайте посмотрим на них.\n",
    "\n",
    "# создадим простую функцию с помощью lambda и положим её в переменную func  \n",
    "func = lambda x, y: x + y  \n",
    "  \n",
    "# после этого мы можем использовать func как обычную функцию  \n",
    "func(1, 2)  \n",
    "# => 3  \n",
    "func('a', 'b')  \n",
    "# => 'ab'  \n",
    "  \n",
    "# мы даже можем не давать функции имя, а сразу вызывать  \n",
    "(lambda x: x**2)(8)  "
   ]
  },
  {
   "cell_type": "code",
   "execution_count": 17,
   "metadata": {},
   "outputs": [],
   "source": [
    "#Если сравнивать определение обычной функции и лямбда-функции:\n",
    "\n",
    "#пишем lambda вместо def;\n",
    "#не пишем название функции (потому и анонимная);\n",
    "#аргументы без скобок;\n",
    "#только одно выражение и оно же возвращается; return не пишется.\n",
    "#Более наглядно:\n",
    "\n",
    "def name(x, y):  \n",
    "    return x + y  \n",
    "  \n",
    "# то же самое, что  \n",
    "name = lambda x, y: x + y  "
   ]
  },
  {
   "cell_type": "code",
   "execution_count": 19,
   "metadata": {},
   "outputs": [
    {
     "name": "stdout",
     "output_type": "stream",
     "text": [
      "[-14, -10, -3, -2, 5, 24]\n"
     ]
    }
   ],
   "source": [
    "# Solution\n",
    "\n",
    "values = [4, 8, 15, 16, 23, 42]\n",
    "mean = 18\n",
    "\n",
    "result = list(map(lambda x: x - mean, values))\n",
    "print(result)"
   ]
  },
  {
   "cell_type": "code",
   "execution_count": 1,
   "metadata": {},
   "outputs": [
    {
     "name": "stdout",
     "output_type": "stream",
     "text": [
      "[1, 20, 16, 5]\n",
      "[1, 33, 5]\n"
     ]
    }
   ],
   "source": [
    "#Filter\n",
    "#Есть ещё одна полезная функция, похожая на map - filter. Они также принимают на вход произвольную функцию и коллекцию. Разница в том, что filter не меняет элементы, \n",
    "#а отфильтровывает коллекцию, оставляя или выбрасывая элементы в зависимости от значения функции.\n",
    "nums = [1, 20, 30, 33, 16, 5]  \n",
    "  \n",
    "# оставим числа меньшее 30  \n",
    "print(list(filter(lambda x: x < 30, nums))) \n",
    "\n",
    "  \n",
    "# оставим только нечётные числа  \n",
    "print(list(filter(lambda x: x % 2 == 1, nums)))"
   ]
  },
  {
   "cell_type": "code",
   "execution_count": 3,
   "metadata": {},
   "outputs": [
    {
     "name": "stdout",
     "output_type": "stream",
     "text": [
      "[23, 42]\n"
     ]
    }
   ],
   "source": [
    "# Для заданных чисел values и среднего \n",
    "#значения mean напишите такой filter, который оставляет только элементы больше среднего значения.\n",
    "\n",
    "values = [4, 8, 15, 16, 23, 42]\n",
    "mean = 18\n",
    "\n",
    "result = list(filter (lambda x: x > mean, values))\n",
    "print(result)"
   ]
  },
  {
   "cell_type": "code",
   "execution_count": 4,
   "metadata": {},
   "outputs": [
    {
     "ename": "NameError",
     "evalue": "name 'piglet' is not defined",
     "output_type": "error",
     "traceback": [
      "\u001b[1;31m---------------------------------------------------------------------------\u001b[0m",
      "\u001b[1;31mNameError\u001b[0m                                 Traceback (most recent call last)",
      "\u001b[1;32m<ipython-input-4-432f727fb544>\u001b[0m in \u001b[0;36m<module>\u001b[1;34m\u001b[0m\n\u001b[0;32m      6\u001b[0m     \u001b[0mpiglet\u001b[0m \u001b[1;33m=\u001b[0m \u001b[1;34m'Naf-naf'\u001b[0m\u001b[1;33m\u001b[0m\u001b[1;33m\u001b[0m\u001b[0m\n\u001b[0;32m      7\u001b[0m \u001b[1;33m\u001b[0m\u001b[0m\n\u001b[1;32m----> 8\u001b[1;33m \u001b[0mprint\u001b[0m\u001b[1;33m(\u001b[0m\u001b[0mpiglet\u001b[0m\u001b[1;33m)\u001b[0m\u001b[1;33m\u001b[0m\u001b[1;33m\u001b[0m\u001b[0m\n\u001b[0m",
      "\u001b[1;31mNameError\u001b[0m: name 'piglet' is not defined"
     ]
    }
   ],
   "source": [
    "#Дело в том, что в Python каждая функция создаёт область видимости переменных: переменные, \n",
    "#которые определенны внутри функции, не будут доступны вне этой функции. Функция — это как будто \n",
    "#домик, и если мы внутри него, мы можем смотреть наружу, но при этом снаружи не видно, кто внутри этого домика.\n",
    "\n",
    "def build_piglet():  \n",
    "    piglet = 'Naf-naf'  \n",
    "\n",
    "print(piglet)\n"
   ]
  },
  {
   "cell_type": "code",
   "execution_count": 5,
   "metadata": {},
   "outputs": [
    {
     "name": "stdout",
     "output_type": "stream",
     "text": [
      "Naf-Naf\n"
     ]
    }
   ],
   "source": [
    "piglet = \"Naf-Naf\"  \n",
    "def who_is_piglet():  \n",
    "    print(piglet)  \n",
    "\n",
    "who_is_piglet()"
   ]
  },
  {
   "cell_type": "code",
   "execution_count": 6,
   "metadata": {},
   "outputs": [
    {
     "name": "stdout",
     "output_type": "stream",
     "text": [
      "0.5\n"
     ]
    }
   ],
   "source": [
    "std = 42 \n",
    "\n",
    "def normalize(value):\n",
    "    result = value/std\n",
    "    return result \n",
    "    \n",
    "print(normalize(21)) # std - глобальная переменная, поэтому value / std работает."
   ]
  },
  {
   "cell_type": "code",
   "execution_count": 7,
   "metadata": {},
   "outputs": [
    {
     "name": "stdout",
     "output_type": "stream",
     "text": [
      "Naf-Naf\n",
      "Spy Wolf\n"
     ]
    }
   ],
   "source": [
    "# Локальные vs глобальные\n",
    "#Переменные, определённые вне функций, называются глобальными*. Переменные внутри функции — локальными.\n",
    "\n",
    "#Вы можете определить локальную переменную с тем же именем, что и существующая глобальная переменная.\n",
    "#И это будет \"новая\" переменная, никак не связанная с глобальной переменной\n",
    "def who_in_house():  \n",
    "    piglet = \"Naf-Naf\"  \n",
    "    print(piglet)  \n",
    "\n",
    "piglet = \"Spy Wolf\"  \n",
    "who_in_house()\n",
    "print(piglet)"
   ]
  },
  {
   "cell_type": "code",
   "execution_count": 8,
   "metadata": {},
   "outputs": [
    {
     "name": "stdout",
     "output_type": "stream",
     "text": [
      "Nif-Nif\n",
      "Naf-Naf\n"
     ]
    }
   ],
   "source": [
    "#Вы можете использовать одинаковые имена переменных в разных функциях,\n",
    "#и это будут разные переменные, никак не связанные друг с другом:\n",
    "def who_in_wood_house():  \n",
    "    piglet = \"Nif-Nif\"  \n",
    "    print(piglet)  \n",
    "\n",
    "def who_in_brick_house():  \n",
    "    piglet = \"Naf-Naf\"  \n",
    "    print(piglet)  \n",
    "\n",
    "who_in_wood_house()\n",
    "who_in_brick_house() "
   ]
  },
  {
   "cell_type": "code",
   "execution_count": 9,
   "metadata": {},
   "outputs": [
    {
     "name": "stdout",
     "output_type": "stream",
     "text": [
      "3.0\n"
     ]
    }
   ],
   "source": [
    "std = 42\n",
    "\n",
    "def normalize(value, std):\n",
    "    result = value / std\n",
    "    return result \n",
    "    \n",
    "print(normalize(21, 7)) # Аналогично первому примеру."
   ]
  },
  {
   "cell_type": "code",
   "execution_count": 10,
   "metadata": {},
   "outputs": [
    {
     "name": "stdout",
     "output_type": "stream",
     "text": [
      "0.5\n"
     ]
    }
   ],
   "source": [
    "values = [-7, -7, 7, 7]\n",
    "std = 42\n",
    "\n",
    "def count_std():\n",
    "    mean = sum(values)/len(values)\n",
    "    std = (sum([(value-mean)**2 for value in values])/len(values))**0.5\n",
    "    return std\n",
    "\n",
    "def normalize(value):\n",
    "    result = value/std\n",
    "    return result \n",
    "\n",
    "print(normalize(21)) # std - глобальная переменная, поэтому получаем 21 / 42 = 0.5"
   ]
  },
  {
   "cell_type": "code",
   "execution_count": 11,
   "metadata": {},
   "outputs": [
    {
     "ename": "UnboundLocalError",
     "evalue": "local variable 'hello' referenced before assignment",
     "output_type": "error",
     "traceback": [
      "\u001b[1;31m---------------------------------------------------------------------------\u001b[0m",
      "\u001b[1;31mUnboundLocalError\u001b[0m                         Traceback (most recent call last)",
      "\u001b[1;32m<ipython-input-11-2350c5ece6b2>\u001b[0m in \u001b[0;36m<module>\u001b[1;34m\u001b[0m\n\u001b[0;32m      4\u001b[0m \u001b[1;32mdef\u001b[0m \u001b[0mchange\u001b[0m\u001b[1;33m(\u001b[0m\u001b[1;33m)\u001b[0m\u001b[1;33m:\u001b[0m\u001b[1;33m\u001b[0m\u001b[1;33m\u001b[0m\u001b[0m\n\u001b[0;32m      5\u001b[0m     \u001b[0mhello\u001b[0m \u001b[1;33m=\u001b[0m \u001b[0mhello\u001b[0m \u001b[1;33m+\u001b[0m \u001b[1;34m'bro'\u001b[0m\u001b[1;33m\u001b[0m\u001b[1;33m\u001b[0m\u001b[0m\n\u001b[1;32m----> 6\u001b[1;33m \u001b[0mchange\u001b[0m\u001b[1;33m(\u001b[0m\u001b[1;33m)\u001b[0m\u001b[1;33m\u001b[0m\u001b[1;33m\u001b[0m\u001b[0m\n\u001b[0m",
      "\u001b[1;32m<ipython-input-11-2350c5ece6b2>\u001b[0m in \u001b[0;36mchange\u001b[1;34m()\u001b[0m\n\u001b[0;32m      3\u001b[0m \u001b[0mhello\u001b[0m \u001b[1;33m=\u001b[0m \u001b[1;34m'world'\u001b[0m\u001b[1;33m\u001b[0m\u001b[1;33m\u001b[0m\u001b[0m\n\u001b[0;32m      4\u001b[0m \u001b[1;32mdef\u001b[0m \u001b[0mchange\u001b[0m\u001b[1;33m(\u001b[0m\u001b[1;33m)\u001b[0m\u001b[1;33m:\u001b[0m\u001b[1;33m\u001b[0m\u001b[1;33m\u001b[0m\u001b[0m\n\u001b[1;32m----> 5\u001b[1;33m     \u001b[0mhello\u001b[0m \u001b[1;33m=\u001b[0m \u001b[0mhello\u001b[0m \u001b[1;33m+\u001b[0m \u001b[1;34m'bro'\u001b[0m\u001b[1;33m\u001b[0m\u001b[1;33m\u001b[0m\u001b[0m\n\u001b[0m\u001b[0;32m      6\u001b[0m \u001b[0mchange\u001b[0m\u001b[1;33m(\u001b[0m\u001b[1;33m)\u001b[0m\u001b[1;33m\u001b[0m\u001b[1;33m\u001b[0m\u001b[0m\n",
      "\u001b[1;31mUnboundLocalError\u001b[0m: local variable 'hello' referenced before assignment"
     ]
    }
   ],
   "source": [
    "#Go global.\n",
    "#Внутри функций внешние (глобальные) переменные доступны только для чтения. Если вы попробуете изменить их, то получите ошибку.\n",
    "hello = 'world'  \n",
    "def change():  \n",
    "    hello = hello + 'bro'  \n",
    "change()"
   ]
  },
  {
   "cell_type": "code",
   "execution_count": 12,
   "metadata": {},
   "outputs": [
    {
     "name": "stdout",
     "output_type": "stream",
     "text": [
      "Naf-Naf!\n"
     ]
    }
   ],
   "source": [
    "#Упс, ошибка.\n",
    "\n",
    "#На этот случай в Python есть ключевое слово global. \n",
    "#Оно позволяет вам свободно изменять и использовать глобальные переменные внутри функции.\n",
    "piglet = \"Naf-Naf\"  \n",
    "def who_is_piglet():  \n",
    "    global piglet  \n",
    "    piglet += '!'  \n",
    "\n",
    "who_is_piglet()  \n",
    "print(piglet)  "
   ]
  },
  {
   "cell_type": "code",
   "execution_count": 13,
   "metadata": {},
   "outputs": [],
   "source": [
    "#Вместе с тем стоит сказать, что пользоваться global стоит осторожно. С ростом программы растёт количество \n",
    "#переменных, и если все они будут глобальными, легко начать \n",
    "#путаться и случайно взять уже существующее имя другой переменной или изменять не те данные, которые вы хотели.\n",
    "\n",
    "#Важно!\n",
    "#Хорошей практикой считается, чтобы переменная была доступна только в той области, где она необходима, и \n",
    "#поэтому для функций предпочтительнее передавать данные через аргументы и возвращать через return.\n"
   ]
  },
  {
   "cell_type": "code",
   "execution_count": 14,
   "metadata": {},
   "outputs": [
    {
     "name": "stdout",
     "output_type": "stream",
     "text": [
      "8\n"
     ]
    }
   ],
   "source": [
    "rabbits = 0\n",
    "\n",
    "def count_rabbits(spotted):\n",
    "    global rabbits\n",
    "    rabbits += spotted\n",
    "\n",
    "    \n",
    "count_rabbits(3)\n",
    "count_rabbits(5)\n",
    "print(rabbits) # global позволяет изменять переменную при каждом запуске функции."
   ]
  },
  {
   "cell_type": "code",
   "execution_count": 1,
   "metadata": {},
   "outputs": [
    {
     "name": "stdout",
     "output_type": "stream",
     "text": [
      "Price:  10\n",
      "Soft, sweat, 10, 12\n"
     ]
    }
   ],
   "source": [
    "#Необязательные аргументы\n",
    "#Представьте, что вы организуете работу ресторана, который готовит бургеры. \n",
    "#Иногда ваши гости хотят бургер без солёных огурцов. Хорошо, чтобы у них была возможность попросить \n",
    "#официанта об этом. Но странно, если бы официант у каждого клиента спрашивал, добавлять ли их.\n",
    "\n",
    "#Похожая ситуация часто встречается и с функциями. Например, print печатает свои аргументы через пробел, \n",
    "#но изредка было бы полезно печатать их через запятую.\n",
    "\n",
    "#Хорошая новость в том, что для функции в Python мы можем определить необязательные аргументы, которые можно не \n",
    "#указывать при её вызове.\n",
    "\n",
    "print(\"Price: \", 10)   \n",
    "  \n",
    "print(\"Soft\", \"sweat\", 10, 12, sep=\", \")  "
   ]
  },
  {
   "cell_type": "code",
   "execution_count": 2,
   "metadata": {},
   "outputs": [
    {
     "name": "stdout",
     "output_type": "stream",
     "text": [
      "Hello, Alice\n",
      "Hello, Bob\n",
      "Hello, Bob\n"
     ]
    }
   ],
   "source": [
    "#Для этого при определении функции для такого аргумента указывается значение по умолчанию.\n",
    "def hello(name=\"Alice\"):  \n",
    "    print(\"Hello,\", name)  \n",
    "\n",
    "hello()  \n",
    "  \n",
    "hello(\"Bob\")\n",
    "  \n",
    "hello(name='Bob')"
   ]
  },
  {
   "cell_type": "code",
   "execution_count": 3,
   "metadata": {},
   "outputs": [],
   "source": [
    "#Чтобы определить аргумент по умолчанию, мы используем знак \"равно\" в формате \"аргумент=значение\", т.е. вместо\n",
    "def func_name(arg_1):\n",
    "    pass"
   ]
  },
  {
   "cell_type": "code",
   "execution_count": 4,
   "metadata": {},
   "outputs": [],
   "source": [
    "#мы пишем\n",
    "def func_name(arg_1=\"some_value\"):\n",
    "    pass # pass нужен, чтобы скомпилировалось."
   ]
  },
  {
   "cell_type": "code",
   "execution_count": 5,
   "metadata": {},
   "outputs": [
    {
     "ename": "SyntaxError",
     "evalue": "unexpected EOF while parsing (<ipython-input-5-770cf99ed7e2>, line 1)",
     "output_type": "error",
     "traceback": [
      "\u001b[1;36m  File \u001b[1;32m\"<ipython-input-5-770cf99ed7e2>\"\u001b[1;36m, line \u001b[1;32m1\u001b[0m\n\u001b[1;33m    def load_the_img(target=\"img.jpg\", width=200, height=100):\u001b[0m\n\u001b[1;37m                                                              ^\u001b[0m\n\u001b[1;31mSyntaxError\u001b[0m\u001b[1;31m:\u001b[0m unexpected EOF while parsing\n"
     ]
    }
   ],
   "source": [
    "def load_the_img(target=\"img.jpg\", width=200, height=100):"
   ]
  },
  {
   "cell_type": "code",
   "execution_count": 6,
   "metadata": {},
   "outputs": [],
   "source": [
    "#Вызов необязательных аргументов\n",
    "#Теперь посмотрим, как нам вызывать функции с аргументами по умолчанию. Для примера возьмём функцию с \n",
    "#большим количеством аргументов. Она должна изменять переданное ей изображение до целевого размера target_size \n",
    "#пикселей, и иногда ей полезно получать другие значения \n",
    "#(количество каналов цветности, сглаживание и т.д.).\n",
    "def resize_image(image, target_size=(128, 128), channels=3, channel_order='rgb', anti_aliasing=True):  \n",
    "    resized_image = image # мы как-то реализуем изменение размера, сейчас не важны детали   \n",
    "    return resized_image"
   ]
  },
  {
   "cell_type": "code",
   "execution_count": 7,
   "metadata": {},
   "outputs": [
    {
     "ename": "SyntaxError",
     "evalue": "invalid syntax (<ipython-input-7-10b5b7c2ee6a>, line 1)",
     "output_type": "error",
     "traceback": [
      "\u001b[1;36m  File \u001b[1;32m\"<ipython-input-7-10b5b7c2ee6a>\"\u001b[1;36m, line \u001b[1;32m1\u001b[0m\n\u001b[1;33m    Первое, что заметим, обязательные аргументы действительно обязательные, и мы должны их указывать, иначе получим ошибку\u001b[0m\n\u001b[1;37m                ^\u001b[0m\n\u001b[1;31mSyntaxError\u001b[0m\u001b[1;31m:\u001b[0m invalid syntax\n"
     ]
    }
   ],
   "source": [
    "Первое, что заметим, обязательные аргументы действительно обязательные, и мы должны их указывать, иначе получим ошибку\n",
    "resize_image()"
   ]
  },
  {
   "cell_type": "code",
   "execution_count": 8,
   "metadata": {},
   "outputs": [
    {
     "data": {
      "text/plain": [
       "0"
      ]
     },
     "execution_count": 8,
     "metadata": {},
     "output_type": "execute_result"
    }
   ],
   "source": [
    "image = int() # Для примера\n",
    "resize_image(image)"
   ]
  },
  {
   "cell_type": "code",
   "execution_count": 9,
   "metadata": {},
   "outputs": [
    {
     "data": {
      "text/plain": [
       "0"
      ]
     },
     "execution_count": 9,
     "metadata": {},
     "output_type": "execute_result"
    }
   ],
   "source": [
    "#Если мы хотим передать ещё аргументов, мы можем это сделать. Они будут приниматься в том порядке, в котором определялись\n",
    "resize_image(image, (120, 120), 1)"
   ]
  },
  {
   "cell_type": "code",
   "execution_count": 10,
   "metadata": {},
   "outputs": [],
   "source": [
    "#Но если хотим выставить пятый аргумент, а все другие пропустить? Мы можем сделать это с помощью именования аргументов. \n",
    "#Обратите внимание, что синтаксис очень похож на тот, что в определении функции: мы указываем внутреннее название переменной и \n",
    "# через \"равно\" пишем её значение.\n",
    "image_1 = int() # Для примера.\n",
    "image_2 = int()\n",
    "image_3 = int()\n",
    "\n",
    "resized_image_1 = resize_image(image_1, channels=1)\n",
    "resized_image_2 = resize_image(image_2, anti_aliasing=False)\n",
    "resized_image_3 = resize_image(image_3, target_size=(120, 120))"
   ]
  },
  {
   "cell_type": "code",
   "execution_count": null,
   "metadata": {},
   "outputs": [],
   "source": []
  }
 ],
 "metadata": {
  "kernelspec": {
   "display_name": "Python 3",
   "language": "python",
   "name": "python3"
  },
  "language_info": {
   "codemirror_mode": {
    "name": "ipython",
    "version": 3
   },
   "file_extension": ".py",
   "mimetype": "text/x-python",
   "name": "python",
   "nbconvert_exporter": "python",
   "pygments_lexer": "ipython3",
   "version": "3.8.3"
  }
 },
 "nbformat": 4,
 "nbformat_minor": 4
}
