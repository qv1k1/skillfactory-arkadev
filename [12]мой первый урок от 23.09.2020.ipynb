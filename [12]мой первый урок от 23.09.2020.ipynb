{
 "cells": [
  {
   "cell_type": "code",
   "execution_count": 3,
   "metadata": {},
   "outputs": [
    {
     "name": "stdout",
     "output_type": "stream",
     "text": [
      "Эх, это не очень редкое слово...\n"
     ]
    }
   ],
   "source": [
    "word='ОченьДлинноеСлово'\n",
    "if ('ф' in word)==True:\n",
    "    print('Ого,Вы ввели редкое слово!')\n",
    "else:\n",
    "    print('Эх, это не очень редкое слово...')"
   ]
  },
  {
   "cell_type": "code",
   "execution_count": 20,
   "metadata": {},
   "outputs": [
    {
     "name": "stdout",
     "output_type": "stream",
     "text": [
      "Выбранная буква есть в введённом слове\n"
     ]
    }
   ],
   "source": [
    "word = 'ОченьДлинноеСлово'\n",
    "letter = 'и'\n",
    "if(letter in word)==False:\n",
    "    print('Выбранной буквы нет в введённом слове')\n",
    "else:\n",
    "    print('Выбранная буква есть в введённом слове')"
   ]
  },
  {
   "cell_type": "code",
   "execution_count": 1,
   "metadata": {},
   "outputs": [
    {
     "name": "stdout",
     "output_type": "stream",
     "text": [
      "Квадратный корень из 1169 - не целое число.\n"
     ]
    }
   ],
   "source": [
    "number = 1169\n",
    "if number**(1/2)%1==0.0:\n",
    "    print(int(number**(1/2)))\n",
    "else:\n",
    "    print('Квадратный корень из', number, '- не целое число.')\n",
    "    "
   ]
  },
  {
   "cell_type": "code",
   "execution_count": 9,
   "metadata": {},
   "outputs": [
    {
     "name": "stdout",
     "output_type": "stream",
     "text": [
      "понедельник\n"
     ]
    }
   ],
   "source": [
    "## Написать число и отобразить день недели \n",
    "number=1\n",
    "if number==1:\n",
    "    print('понедельник')\n",
    "elif number==2:\n",
    "    print('вторник')\n",
    "elif number==3:\n",
    "    print('среда')\n",
    "elif number==4:\n",
    "    print('четврег')\n",
    "elif number==5:\n",
    "    print('пятница')\n",
    "elif number==6:\n",
    "    print('суббота')\n",
    "elif number==7:\n",
    "    print('воскресенье')\n",
    "else:\n",
    "    print('Введите число от 1 до 7')"
   ]
  },
  {
   "cell_type": "code",
   "execution_count": 13,
   "metadata": {},
   "outputs": [
    {
     "name": "stdout",
     "output_type": "stream",
     "text": [
      "Норма\n"
     ]
    }
   ],
   "source": [
    "## Оценить индекс масса тела \n",
    "weight=80\n",
    "height=1.8\n",
    "imt=weight/(height**2)\n",
    "if imt<18.5:\n",
    "    print('Недостаточный вес')\n",
    "elif imt<24.99:\n",
    "    print('Норма')\n",
    "else:\n",
    "    print('Переисбытток веса')"
   ]
  },
  {
   "cell_type": "code",
   "execution_count": 21,
   "metadata": {},
   "outputs": [
    {
     "name": "stdout",
     "output_type": "stream",
     "text": [
      "Хорошо\n"
     ]
    }
   ],
   "source": [
    "## Оценить успеваемость студента \n",
    "Mark=int(7)\n",
    "if 1<=Mark<=4:\n",
    "    print('Неудовлетворительно')\n",
    "elif 4<=Mark<=4.5:\n",
    "    print('удовлетворительно')\n",
    "elif 5<=Mark<=7:\n",
    "    print('Хорошо')\n",
    "elif 8<=Mark<=10:\n",
    "    print('Отлично')\n",
    "else:\n",
    "    print('Ведите число от 1 до 10.')"
   ]
  },
  {
   "cell_type": "code",
   "execution_count": 1,
   "metadata": {},
   "outputs": [
    {
     "name": "stdout",
     "output_type": "stream",
     "text": [
      "Придется потерпеть!\n"
     ]
    }
   ],
   "source": [
    "## баланс человека \n",
    "balance=int(445)\n",
    "if 2500<=balance<=5000:\n",
    "    print('Эх, только фастфуд')\n",
    "elif balance>5000:\n",
    "    print('Сегодня твой выбор - ресторан')\n",
    "else:\n",
    "    print('Придется потерпеть!')"
   ]
  },
  {
   "cell_type": "code",
   "execution_count": 12,
   "metadata": {},
   "outputs": [
    {
     "name": "stdout",
     "output_type": "stream",
     "text": [
      "Введите число\n"
     ]
    }
   ],
   "source": [
    "# Проверка на делимость \n",
    "number=int(457)\n",
    "if number%2==0.0:\n",
    "    print('Число делиться 2 ')\n",
    "elif number%3==0.0:\n",
    "    print('Число 3')\n",
    "elif number%5==0.0:\n",
    "    print('Число на 5')\n",
    "else:\n",
    "    print('Введите число')"
   ]
  },
  {
   "cell_type": "code",
   "execution_count": 16,
   "metadata": {},
   "outputs": [
    {
     "name": "stdout",
     "output_type": "stream",
     "text": [
      "аня не фанат таких цветов\n"
     ]
    }
   ],
   "source": [
    "# Нравятся ли Ане цветы?\n",
    "flower='роза'\n",
    "Color='фиолетовый'\n",
    "if(color=='синий' or color=='белый') and flower=='роза':\n",
    "    print('Ане понравятся эти цветы')\n",
    "else:\n",
    "    print('аня не фанат таких цветов')"
   ]
  },
  {
   "cell_type": "code",
   "execution_count": 23,
   "metadata": {},
   "outputs": [
    {
     "name": "stdout",
     "output_type": "stream",
     "text": [
      "Ваша половина нашлась\n"
     ]
    }
   ],
   "source": [
    "# Совместимость \n",
    "height=180\n",
    "weight=92\n",
    "color='синий'\n",
    "if height>170 and weight<100 and color=='синий':\n",
    "    print('Ваша половина нашлась')\n",
    "else:\n",
    "    print('Поопробуем поискать еще...')"
   ]
  },
  {
   "cell_type": "code",
   "execution_count": 1,
   "metadata": {},
   "outputs": [
    {
     "name": "stdout",
     "output_type": "stream",
     "text": [
      "Вова, это нужное число\n"
     ]
    }
   ],
   "source": [
    "#Делимость чисел\n",
    "number=int(346)\n",
    "if (number%2==0.0) or (number%5==0.0) or (number%173==0.0) or (number%821==0.0):\n",
    "    print('Вова, это нужное число')\n",
    "else:\n",
    "    print('Вова,')"
   ]
  },
  {
   "cell_type": "code",
   "execution_count": 10,
   "metadata": {},
   "outputs": [
    {
     "name": "stdout",
     "output_type": "stream",
     "text": [
      "C++\n"
     ]
    }
   ],
   "source": [
    "#Язык программирование \n",
    "fav_word='плюс'\n",
    "if (fav_word=='рептилия') or (fav_word=='питон') or (fav_word=='змея'):\n",
    "    print ('python')\n",
    "elif (fav_word=='плюс') or (fav_word=='плюсы'):\n",
    "    print('C++')\n",
    "elif (fav_word=='рубин') or (fav_word=='кристал'):\n",
    "    print('Ruby')\n",
    "else:\n",
    "    print('Python')"
   ]
  },
  {
   "cell_type": "code",
   "execution_count": 15,
   "metadata": {},
   "outputs": [
    {
     "name": "stdout",
     "output_type": "stream",
     "text": [
      "Преподователь занят\n"
     ]
    }
   ],
   "source": [
    "# Предователь занят \n",
    "hour=int(10)\n",
    "minute=int(31)\n",
    "if (hour==10 and minute<30) or (hour==12 and minute>0) or (hour==13 and minute<40) or (hour==15 and minute>0) or (16<=hour<=17) or (hour==19 and minute>30):\n",
    "    print('Преподователь свободен')\n",
    "else:\n",
    "    print('Преподователь занят')"
   ]
  },
  {
   "cell_type": "code",
   "execution_count": 1,
   "metadata": {},
   "outputs": [
    {
     "name": "stdout",
     "output_type": "stream",
     "text": [
      "Преподаватель занят.\n"
     ]
    }
   ],
   "source": [
    "hour=10\n",
    "minute=31\n",
    "if (hour==10 and minute<30) or (hour==12 and minute>0) or (hour==13 and minute<40) or (hour==15 and minute>0) or (16<=hour<=17) or (hour==19 and minute>30):\n",
    "    print('Преподаватель свободен.')\n",
    "else:\n",
    "    print('Преподаватель занят.')"
   ]
  },
  {
   "cell_type": "code",
   "execution_count": 5,
   "metadata": {},
   "outputs": [
    {
     "name": "stdout",
     "output_type": "stream",
     "text": [
      "4\n"
     ]
    }
   ],
   "source": [
    "#Программа, которая ищет наибольшей (не равных 1)\n",
    "# Определим минимальное из чисел т.к. наибольшей общий делитель необходимо искать начиная с минимальных чисел \n",
    "num_1=1812\n",
    "num_2=2500\n",
    "k=num_2\n",
    "if num_1<num_2:\n",
    "    k=num_1\n",
    "for i in range (k, 0, -1):\n",
    "    if num_1%i==0.0 and num_2%i==0.0:\n",
    "        break\n",
    "if i!=1:\n",
    "    print(i)\n",
    "else:\n",
    "    print('Общих делителей не найдено')"
   ]
  },
  {
   "cell_type": "code",
   "execution_count": 9,
   "metadata": {},
   "outputs": [
    {
     "name": "stdout",
     "output_type": "stream",
     "text": [
      "стркция"
     ]
    }
   ],
   "source": [
    "#Строка посимвольно\n",
    "string='абстракция'\n",
    "for i, letter in enumerate(string):\n",
    "    if letter in 'абв':\n",
    "        continue\n",
    "    print(letter, end='')"
   ]
  },
  {
   "cell_type": "code",
   "execution_count": 13,
   "metadata": {},
   "outputs": [
    {
     "name": "stdout",
     "output_type": "stream",
     "text": [
      "Увы, это неправильный ответ\n",
      "Увы, это неправильный ответ\n",
      "Увы, это неправильный ответ\n",
      "Увы, это неправильный ответ\n",
      "Увы, это неправильный ответ\n",
      "Это безнадежно\n"
     ]
    }
   ],
   "source": [
    "#Программа, которая анализирует ответы \n",
    "string='нет'\n",
    "quest_count=5\n",
    "for i in range(quest_count):\n",
    "    i=i+1\n",
    "    if string=='да':\n",
    "        print('Это отлично!')\n",
    "        break\n",
    "    elif i<quest_count:\n",
    "        print('Увы, это неправильный ответ')\n",
    "        continue\n",
    "    else:\n",
    "        print('Увы, это неправильный ответ')\n",
    "        print('Это безнадежно')"
   ]
  },
  {
   "cell_type": "code",
   "execution_count": 1,
   "metadata": {},
   "outputs": [
    {
     "name": "stdout",
     "output_type": "stream",
     "text": [
      "Простое\n"
     ]
    }
   ],
   "source": [
    "#Является число простым\n",
    "number=173\n",
    "for i in range(2, number+1):\n",
    "    if number%i==0 and i<number:\n",
    "        print('Не является простым')\n",
    "        break\n",
    "    elif i==number:\n",
    "        print('Простое')\n",
    "    else:\n",
    "        continue"
   ]
  },
  {
   "cell_type": "code",
   "execution_count": 3,
   "metadata": {},
   "outputs": [
    {
     "name": "stdout",
     "output_type": "stream",
     "text": [
      "Какая хорошая строка!\n"
     ]
    }
   ],
   "source": [
    "#Проверка строки на соотвествие \n",
    "string='Прелестная строка!'\n",
    "string='Пока!'\n",
    "count=len(string)\n",
    "for i, letter in enumerate(string):\n",
    "    if i%2==0:\n",
    "        if letter in 'аоиеёэыуюя':\n",
    "            print('Строка мне не нравится!')\n",
    "            break\n",
    "else:\n",
    "    print('Какая хорошая строка!')"
   ]
  },
  {
   "cell_type": "code",
   "execution_count": 12,
   "metadata": {},
   "outputs": [
    {
     "name": "stdout",
     "output_type": "stream",
     "text": [
      "0\n"
     ]
    }
   ],
   "source": [
    "#Копить до определенной числовой суммы\n",
    "y=10\n",
    "z=4\n",
    "year=0\n",
    "while y<z:\n",
    "    year+1\n",
    "    y=y*1.1\n",
    "else:\n",
    "    print(year)\n",
    "    "
   ]
  },
  {
   "cell_type": "code",
   "execution_count": 1,
   "metadata": {},
   "outputs": [
    {
     "name": "stdout",
     "output_type": "stream",
     "text": [
      "Перевес 18 кг\n"
     ]
    }
   ],
   "source": [
    "#Проверить лифт на грузооподъемность \n",
    "weight=19\n",
    "sum_weight=0\n",
    "while sum_weight<400:\n",
    "    sum_weight=sum_weight+weight\n",
    "else:\n",
    "    print('Перевес', sum_weight-400, 'кг')"
   ]
  },
  {
   "cell_type": "code",
   "execution_count": 3,
   "metadata": {},
   "outputs": [
    {
     "name": "stdout",
     "output_type": "stream",
     "text": [
      "7\n"
     ]
    }
   ],
   "source": [
    "#Постоянное вычитание \n",
    "current_health=500\n",
    "attack=80\n",
    "sec=0\n",
    "while current_health>0:\n",
    "    sec+=1\n",
    "    current_health=current_health-attack\n",
    "else:\n",
    "    print(sec)"
   ]
  },
  {
   "cell_type": "code",
   "execution_count": 7,
   "metadata": {},
   "outputs": [
    {
     "name": "stdout",
     "output_type": "stream",
     "text": [
      "10000\n",
      "7200\n",
      "4400\n",
      "1600\n",
      "Слишком большие расходы\n"
     ]
    }
   ],
   "source": [
    "#Списание средств \n",
    "balance=10000\n",
    "spent=2800\n",
    "while balance>0:\n",
    "    print(balance)\n",
    "    balance=balance-spent\n",
    "else:\n",
    "    print('Слишком большие расходы')"
   ]
  },
  {
   "cell_type": "code",
   "execution_count": 8,
   "metadata": {},
   "outputs": [
    {
     "name": "stdout",
     "output_type": "stream",
     "text": [
      "20\n"
     ]
    }
   ],
   "source": [
    "#Заполняем цистерну\n",
    "volue=1000\n",
    "counter=0\n",
    "step=0\n",
    "while volue>0:\n",
    "    counter+=1\n",
    "    step+=5\n",
    "    volue=volue-step\n",
    "else:\n",
    "    print(counter)\n"
   ]
  },
  {
   "cell_type": "code",
   "execution_count": 9,
   "metadata": {},
   "outputs": [
    {
     "name": "stdout",
     "output_type": "stream",
     "text": [
      "6765\n"
     ]
    }
   ],
   "source": [
    "n = 20\n",
    "\n",
    "fib1 = 1\n",
    "fib2 = 1\n",
    "if n == 0:\n",
    "    print(0)\n",
    "elif n <= 2:\n",
    "    print(1)\n",
    "else:\n",
    "    for n in range(2, n):\n",
    "        fib_sum = fib1 + fib2\n",
    "        fib1 = fib2\n",
    "        fib2 = fib_sum\n",
    "    else:\n",
    "        print(fib2)\n",
    "  "
   ]
  },
  {
   "cell_type": "code",
   "execution_count": 11,
   "metadata": {},
   "outputs": [
    {
     "name": "stdout",
     "output_type": "stream",
     "text": [
      "3\n"
     ]
    }
   ],
   "source": [
    "for i in range(10):\n",
    "    if i>=3:\n",
    "        break\n",
    "print(i)"
   ]
  },
  {
   "cell_type": "code",
   "execution_count": 1,
   "metadata": {},
   "outputs": [
    {
     "name": "stdout",
     "output_type": "stream",
     "text": [
      "12\n"
     ]
    }
   ],
   "source": [
    "count=1\n",
    "while count<27:\n",
    "    if count%2==0:\n",
    "        to_print=12\n",
    "    else:\n",
    "        to_print=10\n",
    "    count+=1\n",
    "print(to_print)"
   ]
  },
  {
   "cell_type": "code",
   "execution_count": 17,
   "metadata": {},
   "outputs": [
    {
     "data": {
      "text/plain": [
       "['руки', 'ноги']"
      ]
     },
     "execution_count": 17,
     "metadata": {},
     "output_type": "execute_result"
    }
   ],
   "source": [
    "body = ['голова', 'руки', 'ноги', 'глаза', 'уши', 'рот', 'нос', 'туловище']\n",
    "body[-7:-5]"
   ]
  },
  {
   "cell_type": "code",
   "execution_count": 23,
   "metadata": {},
   "outputs": [
    {
     "data": {
      "text/plain": [
       "['Капустин', 'Козлов', 'Сидоров']"
      ]
     },
     "execution_count": 23,
     "metadata": {},
     "output_type": "execute_result"
    }
   ],
   "source": [
    "sparta = ['Иванов', 'Петров', 'Сидоров', 'Зайцев', 'Дятлов', \n",
    "          'Козлов', 'Лисичкин', 'Огурцов', 'Капустин', 'Арбузов']\n",
    "sparta[-2:1:-3]"
   ]
  },
  {
   "cell_type": "code",
   "execution_count": 1,
   "metadata": {},
   "outputs": [
    {
     "ename": "NameError",
     "evalue": "name 'body' is not defined",
     "output_type": "error",
     "traceback": [
      "\u001b[1;31m---------------------------------------------------------------------------\u001b[0m",
      "\u001b[1;31mNameError\u001b[0m                                 Traceback (most recent call last)",
      "\u001b[1;32m<ipython-input-1-fb5409f1cb9a>\u001b[0m in \u001b[0;36m<module>\u001b[1;34m\u001b[0m\n\u001b[1;32m----> 1\u001b[1;33m \u001b[0mbody\u001b[0m\u001b[1;33m\u001b[0m\u001b[1;33m\u001b[0m\u001b[0m\n\u001b[0m\u001b[0;32m      2\u001b[0m \u001b[0mbody\u001b[0m\u001b[1;33m[\u001b[0m\u001b[1;33m:\u001b[0m\u001b[1;33m]\u001b[0m\u001b[1;33m\u001b[0m\u001b[1;33m\u001b[0m\u001b[0m\n\u001b[0;32m      3\u001b[0m \u001b[0mbody\u001b[0m\u001b[1;33m[\u001b[0m\u001b[1;36m1\u001b[0m\u001b[1;33m:\u001b[0m\u001b[1;33m]\u001b[0m\u001b[1;33m\u001b[0m\u001b[1;33m\u001b[0m\u001b[0m\n\u001b[0;32m      4\u001b[0m \u001b[0mbody\u001b[0m\u001b[1;33m[\u001b[0m\u001b[1;36m1\u001b[0m\u001b[1;33m:\u001b[0m\u001b[1;36m7\u001b[0m\u001b[1;33m]\u001b[0m\u001b[1;33m\u001b[0m\u001b[1;33m\u001b[0m\u001b[0m\n\u001b[0;32m      5\u001b[0m \u001b[0mbody\u001b[0m\u001b[1;33m[\u001b[0m\u001b[1;36m1\u001b[0m\u001b[1;33m:\u001b[0m\u001b[1;36m8\u001b[0m\u001b[1;33m]\u001b[0m\u001b[1;33m\u001b[0m\u001b[1;33m\u001b[0m\u001b[0m\n",
      "\u001b[1;31mNameError\u001b[0m: name 'body' is not defined"
     ]
    }
   ],
   "source": [
    "body\n",
    "body[:]\n",
    "body[1:]\n",
    "body[1:7]\n",
    "body[1:8]"
   ]
  },
  {
   "cell_type": "code",
   "execution_count": 8,
   "metadata": {},
   "outputs": [],
   "source": [
    "# Задаем список raw_list\n",
    "raw_list = ['переменные', 'циклы', 'условия', 'списки', 'словари', 'файлы', 'функции']\n",
    "# Создаем пустой список\n",
    "my_list=[]\n",
    "for word in raw_list: # Проходимся по элементам списка raw_list\n",
    "    my_list.append(len(word)) # Доабавляем новый элемент в список my_list\n",
    "result=min(my_list)+max(my_list)"
   ]
  },
  {
   "cell_type": "code",
   "execution_count": 11,
   "metadata": {},
   "outputs": [],
   "source": [
    "# Разбор чисел \n",
    "raw_list=[2,8,10,23,64,49,11,52,71,14]\n",
    "x_min=min(raw_list) #Находим минимальое значение этого списка\n",
    "x_max=max(raw_list) # Находим максимальное значение этого списка\n",
    "my_list=[] #Создаем пустой список \n",
    "for word in raw_list:  #Проходим по элементам списка рав-лист\n",
    "    if word%2==0: # Проверяем, если элемент четный то добавляем его в новый списко и умножаем на 2\n",
    "        my_list.append(word*x_min)\n",
    "    else: #Иначе добовляем его в список, умножая на максимальный элемент\n",
    "        my_list.append(word*x_max)\n",
    "result=max(my_list) # Определяем максимальный элемент нового списка"
   ]
  },
  {
   "cell_type": "code",
   "execution_count": 1,
   "metadata": {},
   "outputs": [],
   "source": [
    "raw_list = [2, 8, 10, 23, 64, 49, 11, 52, 71, 14]\n",
    "# Находим минимальное значение этого списка\n",
    "x_min = min(raw_list)\n",
    "# Находим максимальное значение этого списка\n",
    "x_max=max(raw_list)\n",
    "# Создаем пустой список\n",
    "my_list=[]\n",
    "for word in raw_list: #Проходимся по элементам списка raw_list\n",
    "    if word%2==0: # проверяем, если элемент четный, то добавляем его в новый список, умножая на минимальный элемент\n",
    "        my_list.append(word*x_min)\n",
    "    else: # иначе добавляем его в список, умножая на максимальный элемент\n",
    "        my_list.append(word*x_max) \n",
    "result = max(my_list) # Определеяем максимальный элемент нового списка"
   ]
  },
  {
   "cell_type": "code",
   "execution_count": 3,
   "metadata": {},
   "outputs": [
    {
     "name": "stdout",
     "output_type": "stream",
     "text": [
      "+79265748370\n"
     ]
    }
   ],
   "source": [
    "employee_base = {\n",
    "    'Мария Никитина': '+79033923029',\n",
    "    'Егор Савичев': '+78125849204',\n",
    "    'Александр Пахомов':'+79053049385',\n",
    "    'Алина Егорова':'+79265748370',\n",
    "    'Руслан Башаров':'+79030598495'\n",
    "}\n",
    "print(employee_base['Алина Егорова'])"
   ]
  },
  {
   "cell_type": "code",
   "execution_count": 6,
   "metadata": {},
   "outputs": [],
   "source": [
    "#По названию страны присваеваем группу \n",
    "draw_dict={\n",
    "    'Russia':'A',\n",
    "    'Portugal':'B',\n",
    "    'France':'C',\n",
    "    'Danya':'C',\n",
    "    'Egypt':'A'\n",
    "}\n",
    "country='Italia' #Дано значение страны \n",
    "if country in draw_dict: #Проверяем есть ли данная строка в словаре \n",
    "    group=draw_dict[country] #Если есть, то присваивает групп значение \n",
    "else:\n",
    "    group='unknown' #если нет, присваивает переменную групп значение "
   ]
  },
  {
   "cell_type": "code",
   "execution_count": 1,
   "metadata": {},
   "outputs": [],
   "source": [
    "draw_dict = {\n",
    "\t'Россия': 'A',\n",
    "\t'Португалия': 'B',\n",
    "\t'Франция': 'C',\n",
    "\t'Дания': 'C',\n",
    "\t'Египет': 'A'\n",
    "}\n",
    "country='Италия' # Нам дано значение страны 'Италия'\n",
    "if country in draw_dict: #Проверяем, есть ли данная страна в словаре\n",
    "   group=draw_dict[country] # если есть, то присваиваем переменной group значение из словаря\n",
    "else:\n",
    "   group='unknown' # если нет, присваиваем переменной group значение 'unknown'"
   ]
  },
  {
   "cell_type": "code",
   "execution_count": 5,
   "metadata": {},
   "outputs": [],
   "source": [
    "draw_dict = {\n",
    "\t'Россия': 'A',\n",
    "\t'Португалия': 'B',\n",
    "\t'Франция': 'C',\n",
    "\t'Дания': 'C',\n",
    "\t'Египет': 'A'\n",
    "}\n",
    "draw_new={} # Создаем новый словарь, в который запишем отфильтрованные\n",
    "for country, group in draw_dict.items(): # Проходимся сразу по 2-м переменным (паре ключ-значение) словаря\n",
    "    if group=='A': #Если значение равно \"А\"\n",
    "        draw_new[country]=group # Добавляем пару ключ-значение в отфильтрованный словарь"
   ]
  },
  {
   "cell_type": "code",
   "execution_count": 8,
   "metadata": {},
   "outputs": [
    {
     "ename": "NameError",
     "evalue": "name 'expenses' is not defined",
     "output_type": "error",
     "traceback": [
      "\u001b[1;31m---------------------------------------------------------------------------\u001b[0m",
      "\u001b[1;31mNameError\u001b[0m                                 Traceback (most recent call last)",
      "\u001b[1;32m<ipython-input-8-c81c326a8912>\u001b[0m in \u001b[0;36m<module>\u001b[1;34m\u001b[0m\n\u001b[0;32m      5\u001b[0m }\n\u001b[0;32m      6\u001b[0m \u001b[0msum\u001b[0m\u001b[1;33m=\u001b[0m\u001b[1;36m0\u001b[0m\u001b[1;33m\u001b[0m\u001b[1;33m\u001b[0m\u001b[0m\n\u001b[1;32m----> 7\u001b[1;33m \u001b[1;32mfor\u001b[0m \u001b[0mexpense\u001b[0m \u001b[1;32min\u001b[0m \u001b[0mexpenses\u001b[0m\u001b[1;33m.\u001b[0m\u001b[0mvalue\u001b[0m\u001b[1;33m(\u001b[0m\u001b[1;33m)\u001b[0m\u001b[1;33m:\u001b[0m\u001b[1;33m\u001b[0m\u001b[1;33m\u001b[0m\u001b[0m\n\u001b[0m\u001b[0;32m      8\u001b[0m     \u001b[0msum\u001b[0m\u001b[1;33m+=\u001b[0m\u001b[0mexpense\u001b[0m\u001b[1;33m\u001b[0m\u001b[1;33m\u001b[0m\u001b[0m\n\u001b[0;32m      9\u001b[0m \u001b[0mprint\u001b[0m\u001b[1;33m(\u001b[0m\u001b[0msum\u001b[0m\u001b[1;33m)\u001b[0m\u001b[1;33m\u001b[0m\u001b[1;33m\u001b[0m\u001b[0m\n",
      "\u001b[1;31mNameError\u001b[0m: name 'expenses' is not defined"
     ]
    }
   ],
   "source": [
    "draw_dict = {\n",
    "\t'2019-04-01': 2504,\n",
    "\t'2019-04-02': 4994,\n",
    "\t'2019-04-03': 6343\n",
    "}\n",
    "sum=0 \n",
    "for expense in expenses.value():\n",
    "    sum+=expense\n",
    "print(sum)"
   ]
  },
  {
   "cell_type": "code",
   "execution_count": 1,
   "metadata": {},
   "outputs": [
    {
     "ename": "NameError",
     "evalue": "name 'expenses' is not defined",
     "output_type": "error",
     "traceback": [
      "\u001b[1;31m---------------------------------------------------------------------------\u001b[0m",
      "\u001b[1;31mNameError\u001b[0m                                 Traceback (most recent call last)",
      "\u001b[1;32m<ipython-input-1-f2e74bc48dc4>\u001b[0m in \u001b[0;36m<module>\u001b[1;34m\u001b[0m\n\u001b[0;32m      1\u001b[0m \u001b[0msum\u001b[0m\u001b[1;33m=\u001b[0m\u001b[1;36m0\u001b[0m \u001b[1;31m# Переменная, в которой будем считать сумму расходов\u001b[0m\u001b[1;33m\u001b[0m\u001b[1;33m\u001b[0m\u001b[0m\n\u001b[1;32m----> 2\u001b[1;33m \u001b[1;32mfor\u001b[0m \u001b[0mexpense\u001b[0m \u001b[1;32min\u001b[0m \u001b[0mexpenses\u001b[0m\u001b[1;33m.\u001b[0m\u001b[0mvalues\u001b[0m\u001b[1;33m(\u001b[0m\u001b[1;33m)\u001b[0m\u001b[1;33m:\u001b[0m \u001b[1;31m# Проходимся по значениям словаря\u001b[0m\u001b[1;33m\u001b[0m\u001b[1;33m\u001b[0m\u001b[0m\n\u001b[0m\u001b[0;32m      3\u001b[0m     \u001b[0msum\u001b[0m\u001b[1;33m+=\u001b[0m\u001b[0mexpense\u001b[0m \u001b[1;31m# Увеличиваем переменную на величину каждого из значений словаря\u001b[0m\u001b[1;33m\u001b[0m\u001b[1;33m\u001b[0m\u001b[0m\n\u001b[0;32m      4\u001b[0m \u001b[0mprint\u001b[0m\u001b[1;33m(\u001b[0m\u001b[0msum\u001b[0m\u001b[1;33m)\u001b[0m\u001b[1;33m\u001b[0m\u001b[1;33m\u001b[0m\u001b[0m\n",
      "\u001b[1;31mNameError\u001b[0m: name 'expenses' is not defined"
     ]
    }
   ],
   "source": [
    "sum=0 # Переменная, в которой будем считать сумму расходов\n",
    "for expense in expenses.values(): # Проходимся по значениям словаря\n",
    "    sum+=expense # Увеличиваем переменную на величину каждого из значений словаря\n",
    "print(sum)"
   ]
  },
  {
   "cell_type": "code",
   "execution_count": 3,
   "metadata": {},
   "outputs": [],
   "source": [
    "csv_file = [\n",
    "    ['100412', 'Ботинки для горных лыж ATOMIC Hawx Prime 100', 9],\n",
    "    ['100728', 'Скейтборд Jdbug RT03', 32],\n",
    "    ['100732', 'Роллерсерф Razor RipStik Bright', 11],\n",
    "    ['100803', 'Ботинки для сноуборда DC Tucknee', 20],\n",
    "    ['100898', 'Шагомер Omron HJA-306', 2],\n",
    "    ['100934', 'Пульсометр Beurer PM62', 17],\n",
    "]\n",
    "csv_file_filtered=[] # Создание нвого списка \n",
    "for record in csv_file: # Проходим по элементам вложенных списка \n",
    "    if record[2]>10: # если больше 10\n",
    "        csv_file_filtered.append(record) #добовляем весь список товаров \n",
    "        "
   ]
  },
  {
   "cell_type": "code",
   "execution_count": 1,
   "metadata": {},
   "outputs": [],
   "source": [
    "csv_dict = [\n",
    "    {'id': '100412', 'position': 'Ботинки для горных лыж ATOMIC Hawx Prime 100', 'count': 9},\n",
    "    {'id': '100728', 'position': 'Скейтборд Jdbug RT03', 'count': 32},\n",
    "    {'id': '100732', 'position': 'Роллерсерф Razor RipStik Bright', 'count': 11},\n",
    "    {'id': '100803', 'position': 'Ботинки для сноуборда DC Tucknee', 'count': 20},\n",
    "    {'id': '100898', 'position': 'Шагомер Omron HJA-306', 'count': 2},\n",
    "    {'id': '100934', 'position': 'Пульсометр Beurer PM62', 'count': 17},\n",
    "]\n",
    "csv_dict_boots=[] #Созд нов словарь \n",
    "for record in csv_dict: # Проходимся по элементам \n",
    "    if 'Ботинки' in record['position']: #Если в значение есть даные условия \n",
    "        csv_dict_boots.append(record) #Добовляем весь словарь \n",
    "        "
   ]
  },
  {
   "cell_type": "code",
   "execution_count": 4,
   "metadata": {},
   "outputs": [
    {
     "name": "stdout",
     "output_type": "stream",
     "text": [
      "98\n"
     ]
    }
   ],
   "source": [
    "results = [\n",
    "\t{'cost': 98, 'source': 'vk'},\n",
    "\t{'cost': 153, 'source': 'yandex'},\n",
    "\t{'cost': 110, 'source': 'facebook'},\n",
    "]\n",
    "min=1000 # Задаем значение минимума, с которым будем сравнивать значения из словаря\n",
    "for stat in results: # Проходимся по словарям списка\n",
    "    if stat['cost']<min: # Если значение ключа cost меньше заданного минимума\n",
    "        min=stat['cost'] # присваиваем значение переменной минимума, с котрой будем сравнивать в следцющем цикле\n",
    "print(min)"
   ]
  },
  {
   "cell_type": "code",
   "execution_count": 6,
   "metadata": {},
   "outputs": [
    {
     "name": "stdout",
     "output_type": "stream",
     "text": [
      "5\n"
     ]
    }
   ],
   "source": [
    "defect_stats = [\n",
    "\t{'step number': 1, 'damage': 0.98},\n",
    "\t{'step number': 2, 'damage': 0.99},\n",
    "\t{'step number': 3, 'damage': 0.99},\n",
    "\t{'step number': 4, 'damage': 0.96},\n",
    "\t{'step number': 5, 'damage': 0.97},\n",
    "\t{'step number': 6, 'damage': 0.97},\n",
    "]\n",
    "size=100 # исходный размер 100% с отклонением 0%\n",
    "number=0 # этап производственной линии\n",
    "for step in defect_stats: #Проходимся по каждому из словарей списка\n",
    "    size*=step['damage'] # Уменьшаем исходный размер на величину деформации (умножаем на значение ключа damage)\n",
    "    if size<90: # Если получившиеся повреждения привели к размеру менее 90%\n",
    "        number=step['step number'] # Определяем этап, на котором это произошло\n",
    "        break\n",
    "print(number)"
   ]
  },
  {
   "cell_type": "code",
   "execution_count": 8,
   "metadata": {},
   "outputs": [
    {
     "name": "stdout",
     "output_type": "stream",
     "text": [
      "AMD\n"
     ]
    }
   ],
   "source": [
    "currency = {\n",
    "\t'AMD': {\n",
    "\t\t'Name': 'Армянских драмов',\n",
    "\t\t'Nominal': 100,\n",
    "\t\t'Value': 13.121\n",
    "\t},\n",
    "\n",
    "\t'AUD': {\n",
    "\t\t'Name': 'Австралийский доллар',\n",
    "\t\t'Nominal': 1,\n",
    "\t\t'Value': 45.5309\n",
    "\t},\n",
    "\n",
    "\t'INR': {\n",
    "\t\t'Name': 'Индийских рупий',\n",
    "\t\t'Nominal': 100,\n",
    "\t\t'Value': 92.9658\n",
    "\t},\n",
    "\n",
    "\t'MDL': {\n",
    "\t\t'Name': 'Молдавских леев',\n",
    "\t\t'Nominal': 10,\n",
    "\t\t'Value': 36.9305\n",
    "\t},\n",
    "}\n",
    "min=1000000\n",
    "valuta=''\n",
    "for exchange, rate in currency.items(): # Проходимся по каждому элементу вложенного словаря currency\n",
    "    if rate['Value']/rate['Nominal']<min: #Если значение ключа Value, деленное на значение ключа Nominal меньше минимума\n",
    "        min=rate['Value']/rate['Nominal'] #Задаем новый минимум\n",
    "        valuta=exchange # Присваиваем переменной valuta название валюты, в которой находится минимум \n",
    "print(valuta)"
   ]
  },
  {
   "cell_type": "code",
   "execution_count": 10,
   "metadata": {},
   "outputs": [
    {
     "data": {
      "text/plain": [
       "225"
      ]
     },
     "execution_count": 10,
     "metadata": {},
     "output_type": "execute_result"
    }
   ],
   "source": [
    "bodycount = {\n",
    "\t'Проклятие Черной жемчужины': {\n",
    "\t\t'человек': 17\n",
    "\t}, \n",
    "\n",
    "\t'Сундук мертвеца': {\n",
    "\t\t'человек': 56,\n",
    "\t\t'раков-отшельников': 1\n",
    "\t},\n",
    "\n",
    "\t'На краю света': {\n",
    "\t\t'человек': 88\n",
    "\t},\n",
    "\n",
    "\t'На странных берегах': {\n",
    "\t\t'человек': 56,\n",
    "\t\t'русалок': 2,\n",
    "\t\t'ядовитых жаб': 3,\n",
    "\t\t'пиратов зомби': 2\n",
    "\t}\n",
    "}\n",
    "result = [] #создадим словарь, куда будем помещать число всех выживших\n",
    "for film, died in bodycount.items():\n",
    "    for key in died.values():# пройдемся по всем ключам сложенных словарей\n",
    "        result.append(key)\n",
    "sum(result)"
   ]
  },
  {
   "cell_type": "code",
   "execution_count": 14,
   "metadata": {},
   "outputs": [
    {
     "ename": "FileNotFoundError",
     "evalue": "[Errno 2] No such file or directory: 'data.json'",
     "output_type": "error",
     "traceback": [
      "\u001b[1;31m---------------------------------------------------------------------------\u001b[0m",
      "\u001b[1;31mFileNotFoundError\u001b[0m                         Traceback (most recent call last)",
      "\u001b[1;32m<ipython-input-14-010af1b5cf0f>\u001b[0m in \u001b[0;36m<module>\u001b[1;34m\u001b[0m\n\u001b[0;32m      1\u001b[0m \u001b[1;32mimport\u001b[0m \u001b[0mjson\u001b[0m\u001b[1;33m\u001b[0m\u001b[1;33m\u001b[0m\u001b[0m\n\u001b[1;32m----> 2\u001b[1;33m \u001b[1;32mwith\u001b[0m \u001b[0mopen\u001b[0m\u001b[1;33m(\u001b[0m\u001b[1;34m'data.json'\u001b[0m\u001b[1;33m,\u001b[0m \u001b[1;34m'rb'\u001b[0m\u001b[1;33m)\u001b[0m \u001b[1;32mas\u001b[0m \u001b[0minfile\u001b[0m\u001b[1;33m:\u001b[0m\u001b[1;33m\u001b[0m\u001b[1;33m\u001b[0m\u001b[0m\n\u001b[0m\u001b[0;32m      3\u001b[0m     \u001b[0mdata\u001b[0m \u001b[1;33m=\u001b[0m \u001b[0mjson\u001b[0m\u001b[1;33m.\u001b[0m\u001b[0mload\u001b[0m\u001b[1;33m(\u001b[0m\u001b[0minfile\u001b[0m\u001b[1;33m)\u001b[0m\u001b[1;33m\u001b[0m\u001b[1;33m\u001b[0m\u001b[0m\n",
      "\u001b[1;31mFileNotFoundError\u001b[0m: [Errno 2] No such file or directory: 'data.json'"
     ]
    }
   ],
   "source": [
    "import json\n",
    "with open('data.json', 'rb') as infile:\n",
    "    data = json.load(infile)"
   ]
  },
  {
   "cell_type": "code",
   "execution_count": 3,
   "metadata": {},
   "outputs": [
    {
     "ename": "NameError",
     "evalue": "name 'data' is not defined",
     "output_type": "error",
     "traceback": [
      "\u001b[1;31m---------------------------------------------------------------------------\u001b[0m",
      "\u001b[1;31mNameError\u001b[0m                                 Traceback (most recent call last)",
      "\u001b[1;32m<ipython-input-3-e6bbff5574e7>\u001b[0m in \u001b[0;36m<module>\u001b[1;34m\u001b[0m\n\u001b[0;32m    661\u001b[0m   'options': {'name': 'landing'}}\n\u001b[0;32m    662\u001b[0m ]\n\u001b[1;32m--> 663\u001b[1;33m \u001b[0mdata\u001b[0m\u001b[1;33m[\u001b[0m\u001b[1;34m'events_data'\u001b[0m\u001b[1;33m]\u001b[0m\u001b[1;33m\u001b[0m\u001b[1;33m\u001b[0m\u001b[0m\n\u001b[0m",
      "\u001b[1;31mNameError\u001b[0m: name 'data' is not defined"
     ]
    }
   ],
   "source": [
    "[{'id': 47946124,\n",
    "  'client_id': 62526,\n",
    "  'user_id': 110777,\n",
    "  'category': 'page',\n",
    "  'action': 'enter',\n",
    "  'options': {'name': 'landing'}},\n",
    " {'id': 47947076,\n",
    "  'client_id': 61944,\n",
    "  'user_id': 108565,\n",
    "  'category': 'page',\n",
    "  'action': 'enter',\n",
    "  'options': {'name': 'landing'}},\n",
    " {'id': 47962056,\n",
    "  'client_id': 27115,\n",
    "  'user_id': 49440,\n",
    "  'category': 'page',\n",
    "  'action': 'enter',\n",
    "  'options': {'name': 'page'}},\n",
    " {'id': 47962120,\n",
    "  'client_id': 27115,\n",
    "  'user_id': 49440,\n",
    "  'category': 'datepicker',\n",
    "  'action': 'apply',\n",
    "  'options': {'endDate': '2019-03-31 23:59:59',\n",
    "   'startDate': '2019-03-25 00:00:00'}},\n",
    " {'id': 47962218,\n",
    "  'client_id': 27115,\n",
    "  'user_id': 49440,\n",
    "  'category': 'table',\n",
    "  'action': 'sort',\n",
    "  'options': {'dir': 'ASC', 'name': 'deal_date'}},\n",
    " {'id': 47962238,\n",
    "  'client_id': 27115,\n",
    "  'user_id': 49440,\n",
    "  'category': 'table',\n",
    "  'action': 'sort',\n",
    "  'options': {'dir': 'DESC', 'name': 'deal_date'}},\n",
    " {'id': 47962532,\n",
    "  'client_id': 27115,\n",
    "  'user_id': 49440,\n",
    "  'category': 'table',\n",
    "  'action': 'sort',\n",
    "  'options': {'dir': 'ASC', 'name': 'deal_date'}},\n",
    " {'id': 47962534,\n",
    "  'client_id': 27115,\n",
    "  'user_id': 49440,\n",
    "  'category': 'table',\n",
    "  'action': 'sort',\n",
    "  'options': {'dir': 'DESC', 'name': 'deal_date'}},\n",
    " {'id': 47962696,\n",
    "  'client_id': 27115,\n",
    "  'user_id': 49440,\n",
    "  'category': 'datepicker',\n",
    "  'action': 'apply',\n",
    "  'options': {'endDate': '2019-03-10 23:59:59',\n",
    "   'startDate': '2019-03-04 00:00:00'}},\n",
    " {'id': 47962748,\n",
    "  'client_id': 27115,\n",
    "  'user_id': 49440,\n",
    "  'category': 'datepicker',\n",
    "  'action': 'apply',\n",
    "  'options': {'endDate': '2019-02-24 23:59:59',\n",
    "   'startDate': '2019-02-18 00:00:00'}},\n",
    " {'id': 47962830,\n",
    "  'client_id': 27115,\n",
    "  'user_id': 49440,\n",
    "  'category': 'datepicker',\n",
    "  'action': 'apply',\n",
    "  'options': {'endDate': '2019-03-31 23:59:59',\n",
    "   'startDate': '2019-03-25 00:00:00'}},\n",
    " {'id': 47962860,\n",
    "  'client_id': 27115,\n",
    "  'user_id': 49440,\n",
    "  'category': 'datepicker',\n",
    "  'action': 'apply',\n",
    "  'options': {'endDate': '2019-03-31 23:59:59',\n",
    "   'startDate': '2019-03-28 00:00:00'}},\n",
    " {'id': 47962952,\n",
    "  'client_id': 27115,\n",
    "  'user_id': 49440,\n",
    "  'category': 'datepicker',\n",
    "  'action': 'apply',\n",
    "  'options': {'endDate': '2019-03-31 23:59:59',\n",
    "   'startDate': '2019-03-29 00:00:00'}},\n",
    " {'id': 47964366,\n",
    "  'client_id': 62017,\n",
    "  'user_id': 108835,\n",
    "  'category': 'page',\n",
    "  'action': 'enter',\n",
    "  'options': {'name': 'landing'}},\n",
    " {'id': 47989384,\n",
    "  'client_id': 63120,\n",
    "  'user_id': 113069,\n",
    "  'category': 'page',\n",
    "  'action': 'enter',\n",
    "  'options': {'name': 'landing'}},\n",
    " {'id': 48010418,\n",
    "  'client_id': 59883,\n",
    "  'user_id': 108493,\n",
    "  'category': 'page',\n",
    "  'action': 'enter',\n",
    "  'options': {'name': 'landing'}},\n",
    " {'id': 48012170,\n",
    "  'client_id': 2913,\n",
    "  'user_id': 37412,\n",
    "  'category': 'page',\n",
    "  'action': 'enter',\n",
    "  'options': {'name': 'landing'}},\n",
    " {'id': 48014430,\n",
    "  'client_id': 62940,\n",
    "  'user_id': 112351,\n",
    "  'category': 'page',\n",
    "  'action': 'enter',\n",
    "  'options': {'name': 'landing'}},\n",
    " {'id': 48022684,\n",
    "  'client_id': 63149,\n",
    "  'user_id': 113143,\n",
    "  'category': 'page',\n",
    "  'action': 'enter',\n",
    "  'options': {'name': 'landing'}},\n",
    " {'id': 48026886,\n",
    "  'client_id': 45391,\n",
    "  'user_id': 76047,\n",
    "  'category': 'page',\n",
    "  'action': 'enter',\n",
    "  'options': {'name': 'landing'}},\n",
    " {'id': 48034878,\n",
    "  'client_id': 18923,\n",
    "  'user_id': 36488,\n",
    "  'category': 'page',\n",
    "  'action': 'enter',\n",
    "  'options': {'name': 'landing'}},\n",
    " {'id': 48042052,\n",
    "  'client_id': 63019,\n",
    "  'user_id': 113169,\n",
    "  'category': 'page',\n",
    "  'action': 'enter',\n",
    "  'options': {'name': 'landing'}},\n",
    " {'id': 48043326,\n",
    "  'client_id': 18923,\n",
    "  'user_id': 36488,\n",
    "  'category': 'page',\n",
    "  'action': 'enter',\n",
    "  'options': {'name': 'landing'}},\n",
    " {'id': 48043640,\n",
    "  'client_id': 18923,\n",
    "  'user_id': 36488,\n",
    "  'category': 'page',\n",
    "  'action': 'enter',\n",
    "  'options': {'name': 'landing'}},\n",
    " {'id': 48051248,\n",
    "  'client_id': 15759,\n",
    "  'user_id': 92681,\n",
    "  'category': 'page',\n",
    "  'action': 'enter',\n",
    "  'options': {'name': 'landing'}},\n",
    " {'id': 48061250,\n",
    "  'client_id': 62007,\n",
    "  'user_id': 92681,\n",
    "  'category': 'page',\n",
    "  'action': 'enter',\n",
    "  'options': {'name': 'page'}},\n",
    " {'id': 48066902,\n",
    "  'client_id': 62941,\n",
    "  'user_id': 112357,\n",
    "  'category': 'page',\n",
    "  'action': 'enter',\n",
    "  'options': {'name': 'landing'}},\n",
    " {'id': 48081876,\n",
    "  'client_id': 51009,\n",
    "  'user_id': 87778,\n",
    "  'category': 'page',\n",
    "  'action': 'enter',\n",
    "  'options': {'name': 'landing'}},\n",
    " {'id': 48106514,\n",
    "  'client_id': 62236,\n",
    "  'user_id': 109579,\n",
    "  'category': 'page',\n",
    "  'action': 'enter',\n",
    "  'options': {'name': 'landing'}},\n",
    " {'id': 48110768,\n",
    "  'client_id': 44682,\n",
    "  'user_id': 74909,\n",
    "  'category': 'page',\n",
    "  'action': 'enter',\n",
    "  'options': {'name': 'landing'}},\n",
    " {'id': 48114652,\n",
    "  'client_id': 39709,\n",
    "  'user_id': 67955,\n",
    "  'category': 'page',\n",
    "  'action': 'enter',\n",
    "  'options': {'name': 'landing'}},\n",
    " {'id': 48118216,\n",
    "  'client_id': 60459,\n",
    "  'user_id': 32532,\n",
    "  'category': 'page',\n",
    "  'action': 'enter',\n",
    "  'options': {'name': 'page'}},\n",
    " {'id': 48118370,\n",
    "  'client_id': 62144,\n",
    "  'user_id': 109283,\n",
    "  'category': 'page',\n",
    "  'action': 'enter',\n",
    "  'options': {'name': 'landing'}},\n",
    " {'id': 48118516,\n",
    "  'client_id': 60459,\n",
    "  'user_id': 32532,\n",
    "  'category': 'report',\n",
    "  'action': 'change_mode',\n",
    "  'options': {'mode': 'deals'}},\n",
    " {'id': 48118564,\n",
    "  'client_id': 60459,\n",
    "  'user_id': 32532,\n",
    "  'category': 'report',\n",
    "  'action': 'change_mode',\n",
    "  'options': {'mode': 'summary'}},\n",
    " {'id': 48118590,\n",
    "  'client_id': 60459,\n",
    "  'user_id': 32532,\n",
    "  'category': 'report',\n",
    "  'action': 'change_mode',\n",
    "  'options': {'mode': 'deals'}},\n",
    " {'id': 48118920,\n",
    "  'client_id': 60459,\n",
    "  'user_id': 32532,\n",
    "  'category': 'report',\n",
    "  'action': 'change_mode',\n",
    "  'options': {'mode': 'summary'}},\n",
    " {'id': 48120374,\n",
    "  'client_id': 60459,\n",
    "  'user_id': 32532,\n",
    "  'category': 'page',\n",
    "  'action': 'enter',\n",
    "  'options': {'name': 'page'}},\n",
    " {'id': 48120386,\n",
    "  'client_id': 60459,\n",
    "  'user_id': 32532,\n",
    "  'category': 'report',\n",
    "  'action': 'change_mode',\n",
    "  'options': {'mode': 'deals'}},\n",
    " {'id': 48120602,\n",
    "  'client_id': 52492,\n",
    "  'user_id': 91178,\n",
    "  'category': 'page',\n",
    "  'action': 'enter',\n",
    "  'options': {'name': 'page'}},\n",
    " {'id': 48120604,\n",
    "  'client_id': 52492,\n",
    "  'user_id': 105477,\n",
    "  'category': 'page',\n",
    "  'action': 'enter',\n",
    "  'options': {'name': 'page'}},\n",
    " {'id': 48120770,\n",
    "  'client_id': 60459,\n",
    "  'user_id': 32532,\n",
    "  'category': 'page',\n",
    "  'action': 'enter',\n",
    "  'options': {'name': 'page'}},\n",
    " {'id': 48120876,\n",
    "  'client_id': 60459,\n",
    "  'user_id': 32532,\n",
    "  'category': 'table',\n",
    "  'action': 'sort',\n",
    "  'options': {'dir': 'ASC', 'name': 'visitor_id'}},\n",
    " {'id': 48120896,\n",
    "  'client_id': 60459,\n",
    "  'user_id': 32532,\n",
    "  'category': 'table',\n",
    "  'action': 'sort',\n",
    "  'options': {'dir': 'DESC', 'name': 'visitor_id'}},\n",
    " {'id': 48121006,\n",
    "  'client_id': 60459,\n",
    "  'user_id': 32532,\n",
    "  'category': 'table',\n",
    "  'action': 'sort',\n",
    "  'options': {'dir': 'ASC', 'name': 'visitor_id'}},\n",
    " {'id': 48121008,\n",
    "  'client_id': 60459,\n",
    "  'user_id': 32532,\n",
    "  'category': 'table',\n",
    "  'action': 'sort',\n",
    "  'options': {'dir': 'DESC', 'name': 'visitor_id'}},\n",
    " {'id': 48125372,\n",
    "  'client_id': 52492,\n",
    "  'user_id': 91178,\n",
    "  'category': 'page',\n",
    "  'action': 'enter',\n",
    "  'options': {'name': 'page'}},\n",
    " {'id': 48130434,\n",
    "  'client_id': 18923,\n",
    "  'user_id': 36488,\n",
    "  'category': 'page',\n",
    "  'action': 'enter',\n",
    "  'options': {'name': 'landing'}},\n",
    " {'id': 48135712,\n",
    "  'client_id': 25301,\n",
    "  'user_id': 54229,\n",
    "  'category': 'page',\n",
    "  'action': 'enter',\n",
    "  'options': {'name': 'landing'}},\n",
    " {'id': 48136376,\n",
    "  'client_id': 18923,\n",
    "  'user_id': 36488,\n",
    "  'category': 'page',\n",
    "  'action': 'enter',\n",
    "  'options': {'name': 'landing'}},\n",
    " {'id': 48136890,\n",
    "  'client_id': 33645,\n",
    "  'user_id': 61378,\n",
    "  'category': 'page',\n",
    "  'action': 'enter',\n",
    "  'options': {'name': 'landing'}},\n",
    " {'id': 48145332,\n",
    "  'client_id': 62089,\n",
    "  'user_id': 109095,\n",
    "  'category': 'page',\n",
    "  'action': 'enter',\n",
    "  'options': {'name': 'landing'}},\n",
    " {'id': 48155244,\n",
    "  'client_id': 26705,\n",
    "  'user_id': 48880,\n",
    "  'category': 'page',\n",
    "  'action': 'enter',\n",
    "  'options': {'name': 'landing'}},\n",
    " {'id': 48160942,\n",
    "  'client_id': 1103,\n",
    "  'user_id': 109501,\n",
    "  'category': 'page',\n",
    "  'action': 'enter',\n",
    "  'options': {'name': 'page'}},\n",
    " {'id': 48166190,\n",
    "  'client_id': 62439,\n",
    "  'user_id': 110397,\n",
    "  'category': 'page',\n",
    "  'action': 'enter',\n",
    "  'options': {'name': 'landing'}},\n",
    " {'id': 48167428,\n",
    "  'client_id': 44196,\n",
    "  'user_id': 74136,\n",
    "  'category': 'page',\n",
    "  'action': 'enter',\n",
    "  'options': {'name': 'landing'}},\n",
    " {'id': 48171114,\n",
    "  'client_id': 62602,\n",
    "  'user_id': 111069,\n",
    "  'category': 'page',\n",
    "  'action': 'enter',\n",
    "  'options': {'name': 'page'}},\n",
    " {'id': 48173426,\n",
    "  'client_id': 62602,\n",
    "  'user_id': 111069,\n",
    "  'category': 'page',\n",
    "  'action': 'enter',\n",
    "  'options': {'name': 'page'}},\n",
    " {'id': 48173444,\n",
    "  'client_id': 62602,\n",
    "  'user_id': 111069,\n",
    "  'category': 'report',\n",
    "  'action': 'link_click',\n",
    "  'options': {'url': 'javascript:void(0);',\n",
    "   'name': 'deal_count',\n",
    "   'value': '1'}},\n",
    " {'id': 48173446,\n",
    "  'client_id': 62602,\n",
    "  'user_id': 111069,\n",
    "  'category': 'page',\n",
    "  'action': 'enter',\n",
    "  'options': {'name': 'page'}},\n",
    " {'id': 48173640,\n",
    "  'client_id': 62602,\n",
    "  'user_id': 111069,\n",
    "  'category': 'page',\n",
    "  'action': 'enter',\n",
    "  'options': {'name': 'page'}},\n",
    " {'id': 48173686,\n",
    "  'client_id': 62602,\n",
    "  'user_id': 111069,\n",
    "  'category': 'page',\n",
    "  'action': 'enter',\n",
    "  'options': {'name': 'page'}},\n",
    " {'id': 48173698,\n",
    "  'client_id': 62602,\n",
    "  'user_id': 111069,\n",
    "  'category': 'page',\n",
    "  'action': 'enter',\n",
    "  'options': {'name': 'page'}},\n",
    " {'id': 48174302,\n",
    "  'client_id': 62602,\n",
    "  'user_id': 111069,\n",
    "  'category': 'page',\n",
    "  'action': 'enter',\n",
    "  'options': {'name': 'page'}},\n",
    " {'id': 48174312,\n",
    "  'client_id': 62602,\n",
    "  'user_id': 111069,\n",
    "  'category': 'report',\n",
    "  'action': 'link_click',\n",
    "  'options': {'url': 'javascript:void(0);',\n",
    "   'name': 'deal_count',\n",
    "   'value': '1'}},\n",
    " {'id': 48174314,\n",
    "  'client_id': 62602,\n",
    "  'user_id': 111069,\n",
    "  'category': 'page',\n",
    "  'action': 'enter',\n",
    "  'options': {'name': 'page'}},\n",
    " {'id': 48174338,\n",
    "  'client_id': 62602,\n",
    "  'user_id': 111069,\n",
    "  'category': 'page',\n",
    "  'action': 'enter',\n",
    "  'options': {'name': 'page'}},\n",
    " {'id': 48179988,\n",
    "  'client_id': 50149,\n",
    "  'user_id': 86073,\n",
    "  'category': 'page',\n",
    "  'action': 'enter',\n",
    "  'options': {'name': 'landing'}},\n",
    " {'id': 57301281,\n",
    "  'client_id': 57009,\n",
    "  'user_id': 107244,\n",
    "  'category': 'page',\n",
    "  'action': 'enter',\n",
    "  'options': {'name': 'landing'}},\n",
    " {'id': 57326589,\n",
    "  'client_id': 57207,\n",
    "  'user_id': 107968,\n",
    "  'category': 'page',\n",
    "  'action': 'enter',\n",
    "  'options': {'name': 'landing'}},\n",
    " {'id': 57328781,\n",
    "  'client_id': 32792,\n",
    "  'user_id': 57997,\n",
    "  'category': 'page',\n",
    "  'action': 'enter',\n",
    "  'options': {'name': 'landing'}},\n",
    " {'id': 57335607,\n",
    "  'client_id': 27323,\n",
    "  'user_id': 92681,\n",
    "  'category': 'page',\n",
    "  'action': 'enter',\n",
    "  'options': {'name': 'landing'}},\n",
    " {'id': 57355249,\n",
    "  'client_id': 24500,\n",
    "  'user_id': 45371,\n",
    "  'category': 'page',\n",
    "  'action': 'enter',\n",
    "  'options': {'name': 'landing'}},\n",
    " {'id': 57357969,\n",
    "  'client_id': 24500,\n",
    "  'user_id': 45371,\n",
    "  'category': 'page',\n",
    "  'action': 'enter',\n",
    "  'options': {'name': 'page'}},\n",
    " {'id': 57364085,\n",
    "  'client_id': 58330,\n",
    "  'user_id': 122756,\n",
    "  'category': 'page',\n",
    "  'action': 'enter',\n",
    "  'options': {'name': 'landing'}},\n",
    " {'id': 57368897,\n",
    "  'client_id': 61245,\n",
    "  'user_id': 122796,\n",
    "  'category': 'page',\n",
    "  'action': 'enter',\n",
    "  'options': {'name': 'landing'}},\n",
    " {'id': 57380235,\n",
    "  'client_id': 19799,\n",
    "  'user_id': 108493,\n",
    "  'category': 'page',\n",
    "  'action': 'enter',\n",
    "  'options': {'name': 'landing'}},\n",
    " {'id': 57397813,\n",
    "  'client_id': 56544,\n",
    "  'user_id': 105404,\n",
    "  'category': 'page',\n",
    "  'action': 'enter',\n",
    "  'options': {'name': 'page'}},\n",
    " {'id': 57397881,\n",
    "  'client_id': 56544,\n",
    "  'user_id': 105404,\n",
    "  'category': 'datepicker',\n",
    "  'action': 'apply',\n",
    "  'options': {'endDate': '2019-03-31 23:59:59',\n",
    "   'startDate': '2019-03-31 00:00:00'}},\n",
    " {'id': 57397923,\n",
    "  'client_id': 56544,\n",
    "  'user_id': 105404,\n",
    "  'category': 'datepicker',\n",
    "  'action': 'apply',\n",
    "  'options': {'endDate': '2019-03-30 23:59:59',\n",
    "   'startDate': '2019-03-30 00:00:00'}},\n",
    " {'id': 57397987,\n",
    "  'client_id': 56544,\n",
    "  'user_id': 105404,\n",
    "  'category': 'datepicker',\n",
    "  'action': 'apply',\n",
    "  'options': {'endDate': '2019-03-29 23:59:59',\n",
    "   'startDate': '2019-03-29 00:00:00'}},\n",
    " {'id': 57398079,\n",
    "  'client_id': 56544,\n",
    "  'user_id': 105404,\n",
    "  'category': 'datepicker',\n",
    "  'action': 'apply',\n",
    "  'options': {'endDate': '2019-03-28 23:59:59',\n",
    "   'startDate': '2019-03-28 00:00:00'}},\n",
    " {'id': 57398119,\n",
    "  'client_id': 56544,\n",
    "  'user_id': 105404,\n",
    "  'category': 'datepicker',\n",
    "  'action': 'apply',\n",
    "  'options': {'endDate': '2019-03-27 23:59:59',\n",
    "   'startDate': '2019-03-27 00:00:00'}},\n",
    " {'id': 57398165,\n",
    "  'client_id': 56544,\n",
    "  'user_id': 105404,\n",
    "  'category': 'datepicker',\n",
    "  'action': 'apply',\n",
    "  'options': {'endDate': '2019-03-26 23:59:59',\n",
    "   'startDate': '2019-03-26 00:00:00'}},\n",
    " {'id': 57398203,\n",
    "  'client_id': 56544,\n",
    "  'user_id': 105404,\n",
    "  'category': 'datepicker',\n",
    "  'action': 'apply',\n",
    "  'options': {'endDate': '2019-03-25 23:59:59',\n",
    "   'startDate': '2019-03-25 00:00:00'}},\n",
    " {'id': 57414209,\n",
    "  'client_id': 23207,\n",
    "  'user_id': 43300,\n",
    "  'category': 'page',\n",
    "  'action': 'enter',\n",
    "  'options': {'name': 'landing'}},\n",
    " {'id': 57414633,\n",
    "  'client_id': 23207,\n",
    "  'user_id': 43300,\n",
    "  'category': 'page',\n",
    "  'action': 'enter',\n",
    "  'options': {'name': 'landing'}},\n",
    " {'id': 57414663,\n",
    "  'client_id': 23207,\n",
    "  'user_id': 85282,\n",
    "  'category': 'page',\n",
    "  'action': 'enter',\n",
    "  'options': {'name': 'landing'}},\n",
    " {'id': 57414851,\n",
    "  'client_id': 23207,\n",
    "  'user_id': 43300,\n",
    "  'category': 'page',\n",
    "  'action': 'enter',\n",
    "  'options': {'name': 'landing'}},\n",
    " {'id': 57420219,\n",
    "  'client_id': 48128,\n",
    "  'user_id': 121686,\n",
    "  'category': 'page',\n",
    "  'action': 'enter',\n",
    "  'options': {'name': 'landing'}},\n",
    " {'id': 57424709,\n",
    "  'client_id': 58113,\n",
    "  'user_id': 120952,\n",
    "  'category': 'page',\n",
    "  'action': 'enter',\n",
    "  'options': {'name': 'page'}},\n",
    " {'id': 57424757,\n",
    "  'client_id': 58113,\n",
    "  'user_id': 120952,\n",
    "  'category': 'report',\n",
    "  'action': 'change_mode',\n",
    "  'options': {'mode': 'deals'}},\n",
    " {'id': 57425399,\n",
    "  'client_id': 58113,\n",
    "  'user_id': 120952,\n",
    "  'category': 'table',\n",
    "  'action': 'sort',\n",
    "  'options': {'dir': 'ASC', 'name': 'ac'}},\n",
    " {'id': 57425421,\n",
    "  'client_id': 58113,\n",
    "  'user_id': 120952,\n",
    "  'category': 'table',\n",
    "  'action': 'sort',\n",
    "  'options': {'dir': 'DESC', 'name': 'ac'}},\n",
    " {'id': 57426007,\n",
    "  'client_id': 58113,\n",
    "  'user_id': 120952,\n",
    "  'category': 'datepicker',\n",
    "  'action': 'apply',\n",
    "  'options': {'endDate': '2019-03-24 23:59:59',\n",
    "   'startDate': '2019-03-18 00:00:00'}},\n",
    " {'id': 57426303,\n",
    "  'client_id': 58113,\n",
    "  'user_id': 120952,\n",
    "  'category': 'datepicker',\n",
    "  'action': 'apply',\n",
    "  'options': {'endDate': '2019-03-17 23:59:59',\n",
    "   'startDate': '2019-03-11 00:00:00'}},\n",
    " {'id': 57431787,\n",
    "  'client_id': 58113,\n",
    "  'user_id': 120952,\n",
    "  'category': 'page',\n",
    "  'action': 'enter',\n",
    "  'options': {'name': 'page'}},\n",
    " {'id': 57444593,\n",
    "  'client_id': 57613,\n",
    "  'user_id': 110958,\n",
    "  'category': 'page',\n",
    "  'action': 'enter',\n",
    "  'options': {'name': 'landing'}},\n",
    " {'id': 57453741,\n",
    "  'client_id': 61244,\n",
    "  'user_id': 120170,\n",
    "  'category': 'page',\n",
    "  'action': 'enter',\n",
    "  'options': {'name': 'landing'}},\n",
    " {'id': 57467371,\n",
    "  'client_id': 53666,\n",
    "  'user_id': 122224,\n",
    "  'category': 'page',\n",
    "  'action': 'enter',\n",
    "  'options': {'name': 'landing'}},\n",
    " {'id': 57473917,\n",
    "  'client_id': 53018,\n",
    "  'user_id': 92402,\n",
    "  'category': 'page',\n",
    "  'action': 'enter',\n",
    "  'options': {'name': 'landing'}},\n",
    " {'id': 57475785,\n",
    "  'client_id': 53666,\n",
    "  'user_id': 122224,\n",
    "  'category': 'page',\n",
    "  'action': 'enter',\n",
    "  'options': {'name': 'landing'}},\n",
    " {'id': 57492477,\n",
    "  'client_id': 41737,\n",
    "  'user_id': 122874,\n",
    "  'category': 'page',\n",
    "  'action': 'enter',\n",
    "  'options': {'name': 'landing'}},\n",
    " {'id': 57493427,\n",
    "  'client_id': 61078,\n",
    "  'user_id': 119662,\n",
    "  'category': 'page',\n",
    "  'action': 'enter',\n",
    "  'options': {'name': 'landing'}},\n",
    " {'id': 57515935,\n",
    "  'client_id': 20820,\n",
    "  'user_id': 116898,\n",
    "  'category': 'page',\n",
    "  'action': 'enter',\n",
    "  'options': {'name': 'landing'}},\n",
    " {'id': 57517657,\n",
    "  'client_id': 41737,\n",
    "  'user_id': 122874,\n",
    "  'category': 'page',\n",
    "  'action': 'enter',\n",
    "  'options': {'name': 'landing'}},\n",
    " {'id': 57540495,\n",
    "  'client_id': 49700,\n",
    "  'user_id': 84946,\n",
    "  'category': 'page',\n",
    "  'action': 'enter',\n",
    "  'options': {'name': 'landing'}}\n",
    "]\n",
    "data['events_data']"
   ]
  },
  {
   "cell_type": "code",
   "execution_count": 4,
   "metadata": {},
   "outputs": [
    {
     "ename": "NameError",
     "evalue": "name 'collections' is not defined",
     "output_type": "error",
     "traceback": [
      "\u001b[1;31m---------------------------------------------------------------------------\u001b[0m",
      "\u001b[1;31mNameError\u001b[0m                                 Traceback (most recent call last)",
      "\u001b[1;32m<ipython-input-4-472ed4f2637b>\u001b[0m in \u001b[0;36m<module>\u001b[1;34m\u001b[0m\n\u001b[1;32m----> 1\u001b[1;33m \u001b[0mc\u001b[0m\u001b[1;33m=\u001b[0m\u001b[0mcollections\u001b[0m\u001b[1;33m.\u001b[0m\u001b[0mCounter\u001b[0m\u001b[1;33m(\u001b[0m\u001b[1;33m)\u001b[0m\u001b[1;33m\u001b[0m\u001b[1;33m\u001b[0m\u001b[0m\n\u001b[0m\u001b[0;32m      2\u001b[0m \u001b[0mnew\u001b[0m\u001b[1;33m=\u001b[0m\u001b[1;33m[\u001b[0m\u001b[1;33m]\u001b[0m\u001b[1;33m\u001b[0m\u001b[1;33m\u001b[0m\u001b[0m\n\u001b[0;32m      3\u001b[0m \u001b[1;32mfor\u001b[0m \u001b[0mitem\u001b[0m \u001b[1;32min\u001b[0m \u001b[0mdata_list\u001b[0m\u001b[1;33m:\u001b[0m\u001b[1;33m\u001b[0m\u001b[1;33m\u001b[0m\u001b[0m\n\u001b[0;32m      4\u001b[0m     \u001b[1;32mif\u001b[0m \u001b[0mitem\u001b[0m\u001b[1;33m[\u001b[0m\u001b[1;34m'category'\u001b[0m\u001b[1;33m]\u001b[0m\u001b[1;33m==\u001b[0m\u001b[1;34m'report'\u001b[0m\u001b[1;33m:\u001b[0m\u001b[1;33m\u001b[0m\u001b[1;33m\u001b[0m\u001b[0m\n\u001b[0;32m      5\u001b[0m         \u001b[0mnew\u001b[0m\u001b[1;33m.\u001b[0m\u001b[0mappend\u001b[0m\u001b[1;33m(\u001b[0m\u001b[0mitem\u001b[0m\u001b[1;33m[\u001b[0m\u001b[1;34m'client_id'\u001b[0m\u001b[1;33m]\u001b[0m\u001b[1;33m)\u001b[0m\u001b[1;33m\u001b[0m\u001b[1;33m\u001b[0m\u001b[0m\n",
      "\u001b[1;31mNameError\u001b[0m: name 'collections' is not defined"
     ]
    }
   ],
   "source": [
    "c=collections.Counter()\n",
    "new=[]\n",
    "for item in data_list:\n",
    "    if item['category']=='report':\n",
    "        new.append(item['client_id'])\n",
    "for s in new:\n",
    "    c[s]+=1\n",
    "print(c)"
   ]
  },
  {
   "cell_type": "code",
   "execution_count": null,
   "metadata": {},
   "outputs": [],
   "source": []
  }
 ],
 "metadata": {
  "kernelspec": {
   "display_name": "Python 3",
   "language": "python",
   "name": "python3"
  },
  "language_info": {
   "codemirror_mode": {
    "name": "ipython",
    "version": 3
   },
   "file_extension": ".py",
   "mimetype": "text/x-python",
   "name": "python",
   "nbconvert_exporter": "python",
   "pygments_lexer": "ipython3",
   "version": "3.8.3"
  }
 },
 "nbformat": 4,
 "nbformat_minor": 4
}
